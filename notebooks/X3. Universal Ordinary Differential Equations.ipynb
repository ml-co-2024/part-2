{
 "cells": [
  {
   "cell_type": "code",
   "execution_count": 1,
   "metadata": {
    "slideshow": {
     "slide_type": "skip"
    }
   },
   "outputs": [],
   "source": [
    "# ============================================================\n",
    "# Notebook setup: run this before everything\n",
    "# ============================================================\n",
    "\n",
    "%load_ext autoreload\n",
    "%autoreload 2\n",
    "\n",
    "# Control figure size\n",
    "interactive_figures = False\n",
    "if interactive_figures:\n",
    "    # Normal behavior\n",
    "    %matplotlib widget\n",
    "    figsize=(9, 3)\n",
    "else:\n",
    "    # PDF export behavior\n",
    "    figsize=(14, 4)\n",
    "\n",
    "from util import util\n",
    "import numpy as np\n",
    "import pandas as pd"
   ]
  },
  {
   "cell_type": "markdown",
   "metadata": {
    "slideshow": {
     "slide_type": "slide"
    }
   },
   "source": [
    "# Universal ODEs"
   ]
  },
  {
   "cell_type": "markdown",
   "metadata": {
    "slideshow": {
     "slide_type": "subslide"
    }
   },
   "source": [
    "## One More Step\n",
    "\n",
    "**Is it really worth it?**\n",
    "\n",
    "So far, we have just used gradient descent to train ODEs\n",
    "\n",
    "* We could have achieved the same results with other methods\n",
    "* What is the added value of using a \"neural\" engine?\n",
    "\n",
    "**There are several advantages**\n",
    "\n",
    "High-dimensionality is not a problem\n",
    "\n",
    "* We can train ODEs with multiple parameters\n",
    "* E.g. $V_s$ or $\\tau$ that vary over time\n",
    "\n",
    "We can approximate ODEs with weaker methods\n",
    "\n",
    "* We managed to use Euler method to obtain good curves\n",
    "* ...And weaker methods are computationally cheaper"
   ]
  },
  {
   "cell_type": "markdown",
   "metadata": {
    "slideshow": {
     "slide_type": "subslide"
    }
   },
   "source": [
    "## Universal Ordinary Differential Equations\n",
    "\n",
    "**The real deal is the ability to incorporate black-box functions**\n",
    "\n",
    "This is sometimes called a [Universal Ordinary Differential Equation](https://arxiv.org/abs/2001.04385) (UDE)\n",
    "\n",
    "$$\n",
    "\\dot{y} = f(y, t, U(y, t))\n",
    "$$\n",
    "\n",
    "* $y$, $t$, and $f$ are as usual\n",
    "* ...Except that some of its parameters come from a second function $U$\n",
    "* $U$ is a trainable universal approximator (typically a NN)\n",
    "\n",
    "**This is an example of neuro-symbolic integration**\n",
    "\n",
    "* $f$ encodes (interpretable) knowledge about the system behavior\n",
    "* $U$ can be trained to learn implicit knowledge from data\n",
    "\n",
    "The result is a simple, but very flexible, hybrid framework"
   ]
  },
  {
   "cell_type": "markdown",
   "metadata": {
    "slideshow": {
     "slide_type": "subslide"
    }
   },
   "source": [
    "## An Example\n",
    "\n",
    "**As ax example, let's consider the SIR model we have encountered**\n",
    "\n",
    "This is a simple, but locally effective, epidemic model\n",
    "\n",
    "$$\\begin{align}\n",
    "\\dot{S} & = - \\beta \\frac{1}{N} SI \\\\\n",
    "\\dot{I} & = + \\beta \\frac{1}{N} SI - \\gamma I \\\\\n",
    "\\dot{R} & = + \\gamma I\n",
    "\\end{align}$$\n",
    "\n",
    "**Say we want to control the epidemic via Non-Pharmaceutical Interventions**\n",
    "\n",
    "* E.g. using masks, social distancing, etc.\n",
    "* These typically have an effect on $\\beta$, and they change over time\n",
    "\n",
    "They can (partially) explain multiple waves observed in a real epidemic"
   ]
  },
  {
   "cell_type": "markdown",
   "metadata": {
    "slideshow": {
     "slide_type": "subslide"
    }
   },
   "source": [
    "## SIR with NPIs\n",
    "\n",
    "**We can model the effect of NPIs via a UDE model**\n",
    "\n",
    "$$\\begin{align}\n",
    "\\dot{S} & = - \\beta(t) \\frac{1}{N} SI \\\\\n",
    "\\dot{I} & = + \\beta(t) \\frac{1}{N} SI - \\gamma I \\\\\n",
    "\\dot{R} & = + \\gamma I\n",
    "\\end{align}$$\n",
    "\n",
    "* Where $U(y, t)$ corresponds to $\\beta(t)$\n",
    "\n",
    "In practice, depending on $t$ certain NPIs will be active and affect $\\beta$\n",
    "\n",
    "* The connection is complex and cannot be modeled by an expert\n",
    "* ...But given enough data, it could be learned\n",
    "\n",
    "**Let's see the idea in action on a use case**"
   ]
  },
  {
   "cell_type": "markdown",
   "metadata": {
    "slideshow": {
     "slide_type": "subslide"
    }
   },
   "source": [
    "## Use Case Parameters\n",
    "\n",
    "**We will consider a synthetic use case**\n",
    "\n",
    "...For simplicity and to have access to ground truth information\n",
    "\n",
    "* We will assume that initially $1\\%$ of the population is infected\n",
    "* ...That the recovery time is 10 days ($\\gamma = 1/10$)\n",
    "* ...And that the \"natural\" $\\beta$ value is 0.3"
   ]
  },
  {
   "cell_type": "code",
   "execution_count": 2,
   "metadata": {},
   "outputs": [],
   "source": [
    "S0, I0, R0 = 0.99, 0.01, 0.00\n",
    "beta_base, gamma = 0.3, 1/10"
   ]
  },
  {
   "cell_type": "markdown",
   "metadata": {},
   "source": [
    "**We assume that NPIs cut that number by a measure-specific _factor_**\n",
    "\n",
    "Assuming $I$ is the set of active NPIs, the ground truth function $\\hat{\\beta}(t)$ is:\n",
    "\n",
    "$$\n",
    "\\hat{\\beta}(t) = \\beta \\prod_{i \\in I} e_i\n",
    "$$"
   ]
  },
  {
   "cell_type": "markdown",
   "metadata": {
    "slideshow": {
     "slide_type": "subslide"
    }
   },
   "source": [
    "## Non-Pharmaceutical Interventions\n",
    "\n",
    "**We will consider the following NPIs**"
   ]
  },
  {
   "cell_type": "code",
   "execution_count": 5,
   "metadata": {},
   "outputs": [],
   "source": [
    "npis = [\n",
    "    util.NPI('masks-indoor', effect=0.75, cost=1),\n",
    "    util.NPI('masks-outdoor', effect=0.9, cost=1),\n",
    "    util.NPI('dad', effect=0.7, cost=3),\n",
    "    util.NPI('bar-rest', effect=0.6, cost=3),\n",
    "    util.NPI('transport', effect=0.6, cost=4)\n",
    "]"
   ]
  },
  {
   "cell_type": "markdown",
   "metadata": {},
   "source": [
    "For sake of simplicity, we will sample NPI values at random\n",
    "\n",
    "* We will change them at random every week\n",
    "* ...Update the $\\beta(t)$ value accordingly\n",
    "* And simulate the epidemics by integrating a SIR model\n",
    "* ...Using an accurate method"
   ]
  },
  {
   "cell_type": "markdown",
   "metadata": {
    "slideshow": {
     "slide_type": "subslide"
    }
   },
   "source": [
    "## The Dataset\n",
    "\n",
    "**Let's use this approach of build a 52-week dataset**"
   ]
  },
  {
   "cell_type": "code",
   "execution_count": 6,
   "metadata": {},
   "outputs": [
    {
     "data": {
      "text/html": [
       "<div>\n",
       "<style scoped>\n",
       "    .dataframe tbody tr th:only-of-type {\n",
       "        vertical-align: middle;\n",
       "    }\n",
       "\n",
       "    .dataframe tbody tr th {\n",
       "        vertical-align: top;\n",
       "    }\n",
       "\n",
       "    .dataframe thead th {\n",
       "        text-align: right;\n",
       "    }\n",
       "</style>\n",
       "<table border=\"1\" class=\"dataframe\">\n",
       "  <thead>\n",
       "    <tr style=\"text-align: right;\">\n",
       "      <th></th>\n",
       "      <th>S</th>\n",
       "      <th>I</th>\n",
       "      <th>R</th>\n",
       "      <th>week</th>\n",
       "      <th>masks-indoor</th>\n",
       "      <th>masks-outdoor</th>\n",
       "      <th>dad</th>\n",
       "      <th>bar-rest</th>\n",
       "      <th>transport</th>\n",
       "      <th>beta</th>\n",
       "    </tr>\n",
       "  </thead>\n",
       "  <tbody>\n",
       "    <tr>\n",
       "      <th>0.0</th>\n",
       "      <td>0.990000</td>\n",
       "      <td>0.010000</td>\n",
       "      <td>0.000000</td>\n",
       "      <td>0</td>\n",
       "      <td>0</td>\n",
       "      <td>0</td>\n",
       "      <td>1</td>\n",
       "      <td>1</td>\n",
       "      <td>0</td>\n",
       "      <td>0.126</td>\n",
       "    </tr>\n",
       "    <tr>\n",
       "      <th>1.0</th>\n",
       "      <td>0.988738</td>\n",
       "      <td>0.010250</td>\n",
       "      <td>0.001012</td>\n",
       "      <td>0</td>\n",
       "      <td>0</td>\n",
       "      <td>0</td>\n",
       "      <td>1</td>\n",
       "      <td>1</td>\n",
       "      <td>0</td>\n",
       "      <td>0.126</td>\n",
       "    </tr>\n",
       "    <tr>\n",
       "      <th>2.0</th>\n",
       "      <td>0.987446</td>\n",
       "      <td>0.010504</td>\n",
       "      <td>0.002050</td>\n",
       "      <td>0</td>\n",
       "      <td>0</td>\n",
       "      <td>0</td>\n",
       "      <td>1</td>\n",
       "      <td>1</td>\n",
       "      <td>0</td>\n",
       "      <td>0.126</td>\n",
       "    </tr>\n",
       "    <tr>\n",
       "      <th>3.0</th>\n",
       "      <td>0.986124</td>\n",
       "      <td>0.010763</td>\n",
       "      <td>0.003113</td>\n",
       "      <td>0</td>\n",
       "      <td>0</td>\n",
       "      <td>0</td>\n",
       "      <td>1</td>\n",
       "      <td>1</td>\n",
       "      <td>0</td>\n",
       "      <td>0.126</td>\n",
       "    </tr>\n",
       "    <tr>\n",
       "      <th>4.0</th>\n",
       "      <td>0.984771</td>\n",
       "      <td>0.011026</td>\n",
       "      <td>0.004203</td>\n",
       "      <td>0</td>\n",
       "      <td>0</td>\n",
       "      <td>0</td>\n",
       "      <td>1</td>\n",
       "      <td>1</td>\n",
       "      <td>0</td>\n",
       "      <td>0.126</td>\n",
       "    </tr>\n",
       "    <tr>\n",
       "      <th>5.0</th>\n",
       "      <td>0.983388</td>\n",
       "      <td>0.011294</td>\n",
       "      <td>0.005319</td>\n",
       "      <td>0</td>\n",
       "      <td>0</td>\n",
       "      <td>0</td>\n",
       "      <td>1</td>\n",
       "      <td>1</td>\n",
       "      <td>0</td>\n",
       "      <td>0.126</td>\n",
       "    </tr>\n",
       "    <tr>\n",
       "      <th>6.0</th>\n",
       "      <td>0.981972</td>\n",
       "      <td>0.011566</td>\n",
       "      <td>0.006462</td>\n",
       "      <td>0</td>\n",
       "      <td>0</td>\n",
       "      <td>0</td>\n",
       "      <td>1</td>\n",
       "      <td>1</td>\n",
       "      <td>0</td>\n",
       "      <td>0.126</td>\n",
       "    </tr>\n",
       "    <tr>\n",
       "      <th>7.0</th>\n",
       "      <td>0.980525</td>\n",
       "      <td>0.011843</td>\n",
       "      <td>0.007632</td>\n",
       "      <td>1</td>\n",
       "      <td>1</td>\n",
       "      <td>0</td>\n",
       "      <td>0</td>\n",
       "      <td>1</td>\n",
       "      <td>1</td>\n",
       "      <td>0.081</td>\n",
       "    </tr>\n",
       "  </tbody>\n",
       "</table>\n",
       "</div>"
      ],
      "text/plain": [
       "            S         I         R  week  masks-indoor  masks-outdoor  dad  \\\n",
       "0.0  0.990000  0.010000  0.000000     0             0              0    1   \n",
       "1.0  0.988738  0.010250  0.001012     0             0              0    1   \n",
       "2.0  0.987446  0.010504  0.002050     0             0              0    1   \n",
       "3.0  0.986124  0.010763  0.003113     0             0              0    1   \n",
       "4.0  0.984771  0.011026  0.004203     0             0              0    1   \n",
       "5.0  0.983388  0.011294  0.005319     0             0              0    1   \n",
       "6.0  0.981972  0.011566  0.006462     0             0              0    1   \n",
       "7.0  0.980525  0.011843  0.007632     1             1              0    0   \n",
       "\n",
       "     bar-rest  transport   beta  \n",
       "0.0         1          0  0.126  \n",
       "1.0         1          0  0.126  \n",
       "2.0         1          0  0.126  \n",
       "3.0         1          0  0.126  \n",
       "4.0         1          0  0.126  \n",
       "5.0         1          0  0.126  \n",
       "6.0         1          0  0.126  \n",
       "7.0         1          1  0.081  "
      ]
     },
     "execution_count": 6,
     "metadata": {},
     "output_type": "execute_result"
    }
   ],
   "source": [
    "nweeks = 52\n",
    "data = util.gen_SIR_NPI_dataset(S0, I0, R0, beta_base, gamma, npis, nweeks, steps_per_day=5, seed=42)\n",
    "data.iloc[:8]"
   ]
  },
  {
   "cell_type": "markdown",
   "metadata": {},
   "source": [
    "* Despite the results are obtained using an accurate method\n",
    "* ...We still assume access to a single measurement per day\n",
    "\n",
    "**This is typically the case in real-world epidemics**"
   ]
  },
  {
   "cell_type": "markdown",
   "metadata": {
    "slideshow": {
     "slide_type": "subslide"
    }
   },
   "source": [
    "## The Dataset\n",
    "\n",
    "**Let's plot the $S, I, R$ component from the dataset**"
   ]
  },
  {
   "cell_type": "code",
   "execution_count": 7,
   "metadata": {},
   "outputs": [
    {
     "data": {
      "image/png": "[encoded data removed]",
      "text/plain": [
       "<Figure size 1008x288 with 1 Axes>"
      ]
     },
     "metadata": {
      "needs_background": "light"
     },
     "output_type": "display_data"
    }
   ],
   "source": [
    "util.plot_df_cols(data[['S', 'I', 'R']], figsize=figsize)"
   ]
  },
  {
   "cell_type": "markdown",
   "metadata": {},
   "source": [
    "* There is still a single wave\n",
    "* ...Due to how we sampled the NPIs (and their effects)"
   ]
  },
  {
   "cell_type": "markdown",
   "metadata": {
    "slideshow": {
     "slide_type": "subslide"
    }
   },
   "source": [
    "## The Dataset\n",
    "\n",
    "**Locally, the behavior is more complex**"
   ]
  },
  {
   "cell_type": "code",
   "execution_count": 8,
   "metadata": {},
   "outputs": [
    {
     "data": {
      "image/png": "[encoded data removed]",
      "text/plain": [
       "<Figure size 1008x288 with 1 Axes>"
      ]
     },
     "metadata": {
      "needs_background": "light"
     },
     "output_type": "display_data"
    }
   ],
   "source": [
    "util.plot_df_cols(data[['I']], figsize=figsize)"
   ]
  },
  {
   "cell_type": "markdown",
   "metadata": {},
   "source": [
    "* When $\\frac{\\hat{\\beta}(t)}{\\gamma} > 1$ we have a true epidemic behavior\n",
    "* When $\\frac{\\hat{\\beta}(t)}{\\gamma} \\leq 1$, the number of new cases always drops"
   ]
  },
  {
   "cell_type": "markdown",
   "metadata": {
    "slideshow": {
     "slide_type": "subslide"
    }
   },
   "source": [
    "## The Implementation\n",
    "\n",
    "**In principle, our previous code should be enough**\n",
    "\n",
    "...I.e. we could use a custom layer for the UDE:\n",
    "\n",
    "$$\\begin{align}\n",
    "\\dot{S} & = - \\beta(t) \\frac{1}{N} SI \\\\\n",
    "\\dot{I} & = + \\beta(t) \\frac{1}{N} SI - \\gamma I \\\\\n",
    "\\dot{R} & = + \\gamma I\n",
    "\\end{align}$$\n",
    "\n",
    "In practice, things are slightly more complicated\n",
    "\n",
    "* Formally, the input for $\\beta(t)$ is _time_\n",
    "* ...But the input we care about are the _active NPIs_"
   ]
  },
  {
   "cell_type": "markdown",
   "metadata": {
    "slideshow": {
     "slide_type": "subslide"
    }
   },
   "source": [
    "## The Implementation\n",
    "\n",
    "**Therefore, a more accurate formulation would be**\n",
    "\n",
    "$$\\begin{align}\n",
    "\\dot{S} & = - \\beta(\\mathit{NPI}(t)) \\frac{1}{N} SI \\\\\n",
    "\\dot{I} & = + \\beta(\\mathit{NPI}(t)) \\frac{1}{N} SI - \\gamma I \\\\\n",
    "\\dot{R} & = + \\gamma I\n",
    "\\end{align}$$\n",
    "\n",
    "In principle, our custom layer should:\n",
    "\n",
    "* Take as input $S, I, R$ and $t$\n",
    "* Use $t$ to retrieve $NPI(t)$\n",
    "* ...And then compute the gradient\n",
    "\n",
    "**In practice, it's easier to supply the NPIs as additional inputs**"
   ]
  },
  {
   "cell_type": "markdown",
   "metadata": {
    "slideshow": {
     "slide_type": "subslide"
    }
   },
   "source": [
    "## Custom NPI-SIR Layer\n",
    "\n",
    "**We provide the SIR layer with a $\\beta(\\mathit{NPI})$ model at construction time**\n",
    "\n",
    "```python\n",
    "class NPISIRNablaLayer(keras.layers.Layer):\n",
    "    def __init__(self, beta_pred, gamma_ref=0.1, fixed_gamma=None):\n",
    "        ...\n",
    "        self.beta_pred = beta_pred # NPI-to-beta model\n",
    "        ...\n",
    "\n",
    "    def call(self, inputs):\n",
    "        y, t, npis = inputs # unpack\n",
    "        ...\n",
    "        beta = self.beta_pred(npis) # obtain beta\n",
    "        ...\n",
    "```\n",
    "\n",
    "* This is the `beta_pred` parameter in the `NPISIRNablaLayer` class\n",
    "* In the `call` method we unpack the auxiliary input"
   ]
  },
  {
   "cell_type": "markdown",
   "metadata": {
    "slideshow": {
     "slide_type": "subslide"
    }
   },
   "source": [
    "## Custom NPI-SIR Layer\n",
    "\n",
    "**We provide the SIR layer with a $\\beta(\\mathit{NPI})$ model at construction time**\n",
    "\n",
    "```python\n",
    "class NPISIRNablaLayer(keras.layers.Layer):\n",
    "    def __init__(self, beta_pred, gamma_ref=0.1, fixed_gamma=None):\n",
    "        ...\n",
    "        self.beta_pred = beta_pred # NPI-to-beta model\n",
    "        ...\n",
    "\n",
    "    def call(self, inputs):\n",
    "        y, t, npis = inputs # unpack\n",
    "        ...\n",
    "        beta = self.beta_pred(npis) # obtain beta\n",
    "        ...\n",
    "```\n",
    "\n",
    "* `npis` is a vector representing active NPI, using a 0/1 encoding\n",
    "* ...And we use the `beta_pred` model to obtain $\\beta$"
   ]
  },
  {
   "cell_type": "markdown",
   "metadata": {
    "slideshow": {
     "slide_type": "subslide"
    }
   },
   "source": [
    "## Modified Euler Method Model\n",
    "\n",
    "**Then, we modify our custom model**\n",
    "\n",
    "We introduce a _flag_ to tell the model we plan to use auxiliary inputs\n",
    "\n",
    "\n",
    "```python\n",
    "class ODEEulerModel(keras.Model):\n",
    "    def __init__(self, f, auxiliary_input=False, **params):\n",
    "        ...\n",
    "\n",
    "    def call(self, inputs, training=False):\n",
    "        if self.auxiliary_input:\n",
    "            y, T, aux = inputs\n",
    "        else:\n",
    "            y, T = inputs\n",
    "        ...\n",
    "```\n",
    "\n",
    "* We unpack all inputs in the `call`,  `train_step`, and `test_step` method\n",
    "* We have the initial state `y`, the evaluation points `T`, and `aux`"
   ]
  },
  {
   "cell_type": "markdown",
   "metadata": {
    "slideshow": {
     "slide_type": "subslide"
    }
   },
   "source": [
    "## Modified Euler Method Model\n",
    "\n",
    "**Then, we modify our custom model**\n",
    "\n",
    "We introduce a _flag_ to tell the model we plan to use auxiliary inputs\n",
    "\n",
    "\n",
    "```python\n",
    "class ODEEulerModel(keras.Model):\n",
    "    def __init__(self, f, auxiliary_input=False, **params):\n",
    "        ...\n",
    "\n",
    "    def call(self, inputs, training=False):\n",
    "        if self.auxiliary_input:\n",
    "            y, T, aux = inputs\n",
    "        else:\n",
    "            y, T = inputs\n",
    "        ...\n",
    "```\n",
    "\n",
    "* We need an NPI vector for each evaluation point (except the last)\n",
    "* Hence `aux` should have `len(T)-1` elements"
   ]
  },
  {
   "cell_type": "markdown",
   "metadata": {
    "slideshow": {
     "slide_type": "subslide"
    }
   },
   "source": [
    "## Preparing the Training Data\n",
    "\n",
    "**The data structures for the initial state are as usual**"
   ]
  },
  {
   "cell_type": "code",
   "execution_count": 9,
   "metadata": {},
   "outputs": [
    {
     "name": "stdout",
     "output_type": "stream",
     "text": [
      "[[0.99       0.01       0.        ]\n",
      " [0.98873788 0.01024967 0.00101245]]\n"
     ]
    }
   ],
   "source": [
    "tr_y0 = data[['S', 'I', 'R']].values[:-1];\n",
    "print(tr_y0[:2])"
   ]
  },
  {
   "cell_type": "markdown",
   "metadata": {},
   "source": [
    "The same goes for the evaluation points"
   ]
  },
  {
   "cell_type": "code",
   "execution_count": 10,
   "metadata": {},
   "outputs": [
    {
     "name": "stdout",
     "output_type": "stream",
     "text": [
      "[[0.   0.25 0.5  0.75 1.  ]\n",
      " [1.   1.25 1.5  1.75 2.  ]]\n"
     ]
    }
   ],
   "source": [
    "euler_steps = 5\n",
    "tr_T = np.linspace(data.index[:-1], data.index[1:], euler_steps).T\n",
    "print(tr_T[:2])"
   ]
  },
  {
   "cell_type": "markdown",
   "metadata": {},
   "source": [
    "* We choose to use 5 euler steps per time unit, for a better approximation\n",
    "* Since our goal is estimating $\\beta$, accuracy is important"
   ]
  },
  {
   "cell_type": "markdown",
   "metadata": {
    "slideshow": {
     "slide_type": "subslide"
    }
   },
   "source": [
    "## Preparing the Training Data\n",
    "\n",
    "**NPI vectors stay constant for every time unit**"
   ]
  },
  {
   "cell_type": "code",
   "execution_count": 11,
   "metadata": {},
   "outputs": [
    {
     "name": "stdout",
     "output_type": "stream",
     "text": [
      "[[[0 0 1 1 0]\n",
      "  [0 0 1 1 0]\n",
      "  [0 0 1 1 0]\n",
      "  [0 0 1 1 0]]\n",
      "\n",
      " [[0 0 1 1 0]\n",
      "  [0 0 1 1 0]\n",
      "  [0 0 1 1 0]\n",
      "  [0 0 1 1 0]]]\n"
     ]
    }
   ],
   "source": [
    "npi_names = [n.name for n in npis]\n",
    "tmp = data[npi_names].values[:-1]\n",
    "ns = len(tr_y0)\n",
    "tr_npi = np.tile(tmp, euler_steps-1).reshape(ns, -1, len(npi_names))\n",
    "print(tr_npi[:2])"
   ]
  },
  {
   "cell_type": "markdown",
   "metadata": {},
   "source": [
    "* We obtain the NPI values for each time unit\n",
    "* ...And we repeat them for every intermediate Euler step\n",
    "* Since NPIs are input, they are not needed for the last step"
   ]
  },
  {
   "cell_type": "markdown",
   "metadata": {
    "slideshow": {
     "slide_type": "subslide"
    }
   },
   "source": [
    "## Preparing the Training Data\n",
    "\n",
    "**The target data is as usual**"
   ]
  },
  {
   "cell_type": "code",
   "execution_count": 12,
   "metadata": {},
   "outputs": [
    {
     "name": "stdout",
     "output_type": "stream",
     "text": [
      "[[[       nan        nan        nan]\n",
      "  [       nan        nan        nan]\n",
      "  [       nan        nan        nan]\n",
      "  [       nan        nan        nan]\n",
      "  [0.98873788 0.01024967 0.00101245]]\n",
      "\n",
      " [[       nan        nan        nan]\n",
      "  [       nan        nan        nan]\n",
      "  [       nan        nan        nan]\n",
      "  [       nan        nan        nan]\n",
      "  [0.98744604 0.01050389 0.00205007]]]\n"
     ]
    }
   ],
   "source": [
    "ns = len(tr_y0)\n",
    "tr_y = np.full((ns, euler_steps, 3), np.nan)\n",
    "tr_y[:, -1, :] = data[['S', 'I', 'R']].values[1:]\n",
    "print(tr_y[:2])"
   ]
  },
  {
   "cell_type": "markdown",
   "metadata": {},
   "source": [
    "* Most entries are null, since we have only one measurement per time unit"
   ]
  },
  {
   "cell_type": "markdown",
   "metadata": {
    "slideshow": {
     "slide_type": "subslide"
    }
   },
   "source": [
    "## Building the Model\n",
    "\n",
    "**We start by building the $\\beta(\\mathit{NPI})$ model**"
   ]
  },
  {
   "cell_type": "code",
   "execution_count": 14,
   "metadata": {},
   "outputs": [
    {
     "data": {
      "image/png": "[encoded data removed]",
      "text/plain": [
       "<IPython.core.display.Image object>"
      ]
     },
     "execution_count": 14,
     "metadata": {},
     "output_type": "execute_result"
    }
   ],
   "source": [
    "beta_pred = util.build_ml_model(input_size=len(npi_names), output_size=1,\n",
    "                               hidden=[16], output_activation='exponential', scale=0.1)\n",
    "util.plot_ml_model(beta_pred)"
   ]
  },
  {
   "cell_type": "markdown",
   "metadata": {},
   "source": [
    "* We use an exponential activation to ensure non-negative $\\beta$ values\n",
    "* ...And a scaling factor to make the initial guess more reasonable\n",
    "\n",
    "Then we build an instance of the modified SIR layer and feed it to the Euler model:"
   ]
  },
  {
   "cell_type": "code",
   "execution_count": 15,
   "metadata": {},
   "outputs": [],
   "source": [
    "dSIR = util.NPISIRNablaLayer(beta_pred=beta_pred, fixed_gamma=gamma)\n",
    "euler = util.ODEEulerModel(dSIR, auxiliary_input=True)"
   ]
  },
  {
   "cell_type": "markdown",
   "metadata": {
    "slideshow": {
     "slide_type": "subslide"
    }
   },
   "source": [
    "## Training\n",
    "\n",
    "**Now we can perform training as usual**"
   ]
  },
  {
   "cell_type": "code",
   "execution_count": 16,
   "metadata": {},
   "outputs": [
    {
     "data": {
      "image/png": "[encoded data removed]",
      "text/plain": [
       "<Figure size 1008x288 with 1 Axes>"
      ]
     },
     "metadata": {
      "needs_background": "light"
     },
     "output_type": "display_data"
    },
    {
     "name": "stdout",
     "output_type": "stream",
     "text": [
      "Model loss: 0.0000 (training)\n",
      "CPU times: user 18.5 s, sys: 2.87 s, total: 21.4 s\n",
      "Wall time: 11.2 s\n"
     ]
    }
   ],
   "source": [
    "%%time\n",
    "history = util.train_ml_model(euler, [tr_y0, tr_T, tr_npi], tr_y, validation_split=0.0, epochs=1000)\n",
    "util.plot_training_history(history, figsize=figsize)"
   ]
  },
  {
   "cell_type": "markdown",
   "metadata": {
    "slideshow": {
     "slide_type": "subslide"
    }
   },
   "source": [
    "## Evaluation\n",
    "\n",
    "**Let's the the quality of estimate curves**\n",
    "\n",
    "We will use the `call` method to have the same conditions as training\n",
    "\n",
    "* We prepare the initial state"
   ]
  },
  {
   "cell_type": "code",
   "execution_count": 17,
   "metadata": {},
   "outputs": [
    {
     "name": "stdout",
     "output_type": "stream",
     "text": [
      "[[0.99 0.01 0.  ]]\n"
     ]
    }
   ],
   "source": [
    "run_y0 = data[['S', 'I', 'R']].iloc[0].values\n",
    "run_y0 = np.array([run_y0])\n",
    "print(run_y0)"
   ]
  },
  {
   "cell_type": "markdown",
   "metadata": {},
   "source": [
    "* Then all the evaluation points (in a whole year)"
   ]
  },
  {
   "cell_type": "code",
   "execution_count": 18,
   "metadata": {},
   "outputs": [
    {
     "name": "stdout",
     "output_type": "stream",
     "text": [
      "[[0.000e+00 2.000e-01 4.000e-01 ... 3.626e+02 3.628e+02 3.630e+02]]\n"
     ]
    }
   ],
   "source": [
    "run_T = np.arange(0, data.index[-1]+1/euler_steps, 1/euler_steps)\n",
    "run_T = np.array([run_T])\n",
    "print(run_T)"
   ]
  },
  {
   "cell_type": "markdown",
   "metadata": {
    "slideshow": {
     "slide_type": "subslide"
    }
   },
   "source": [
    "## Evaluation\n",
    "\n",
    "**Let's the the quality of estimate curves**\n",
    "\n",
    "Finally, we prepare the NPI vectors"
   ]
  },
  {
   "cell_type": "code",
   "execution_count": 19,
   "metadata": {},
   "outputs": [
    {
     "name": "stdout",
     "output_type": "stream",
     "text": [
      "[[[0 0 1 1 0]\n",
      "  [0 0 1 1 0]\n",
      "  [0 0 1 1 0]\n",
      "  ...\n",
      "  [1 1 1 0 1]\n",
      "  [1 1 1 0 1]\n",
      "  [1 1 1 0 1]]]\n"
     ]
    }
   ],
   "source": [
    "run_npis = np.tile(data[npi_names].values, euler_steps).reshape(-1, len(npi_names))\n",
    "run_npis = np.array([run_npis])\n",
    "print(run_npis)"
   ]
  },
  {
   "cell_type": "markdown",
   "metadata": {},
   "source": [
    "...And finally we integrate the ODE"
   ]
  },
  {
   "cell_type": "code",
   "execution_count": 20,
   "metadata": {},
   "outputs": [],
   "source": [
    "run_y = euler([run_y0, run_T, run_npis])"
   ]
  },
  {
   "cell_type": "markdown",
   "metadata": {
    "slideshow": {
     "slide_type": "subslide"
    }
   },
   "source": [
    "## Evaluation\n",
    "\n",
    "**Let's plot the original measurement and the estimated curve**"
   ]
  },
  {
   "cell_type": "code",
   "execution_count": 21,
   "metadata": {},
   "outputs": [
    {
     "data": {
      "image/png": "[encoded data removed]",
      "text/plain": [
       "<Figure size 1008x288 with 1 Axes>"
      ]
     },
     "metadata": {
      "needs_background": "light"
     },
     "output_type": "display_data"
    }
   ],
   "source": [
    "run_cmp = pd.DataFrame(data=run_y[0].numpy(), index=run_T[0], columns=['S_eu', 'I_eu', 'R_eu'])\n",
    "run_cmp[['S', 'I', 'R']] = data[['S', 'I', 'R']]\n",
    "run_cmp[['S', 'I', 'R']] = run_cmp[['S', 'I', 'R']].interpolate()\n",
    "util.plot_df_cols(run_cmp[['I', 'I_eu']], figsize=figsize)"
   ]
  },
  {
   "cell_type": "markdown",
   "metadata": {},
   "source": [
    "* There is a pretty good match"
   ]
  },
  {
   "cell_type": "markdown",
   "metadata": {
    "slideshow": {
     "slide_type": "subslide"
    }
   },
   "source": [
    "## Beta Estimation\n",
    "\n",
    "**Finally, let's make a qualitative check of our $\\beta$ estimates**"
   ]
  },
  {
   "cell_type": "code",
   "execution_count": 22,
   "metadata": {},
   "outputs": [
    {
     "data": {
      "image/png": "[encoded data removed]",
      "text/plain": [
       "<Figure size 1008x288 with 1 Axes>"
      ]
     },
     "metadata": {
      "needs_background": "light"
     },
     "output_type": "display_data"
    }
   ],
   "source": [
    "beta_cmp = data[['beta']].copy()\n",
    "beta_cmp['pred'] = beta_pred.predict(data[npi_names])\n",
    "util.plot_df_cols(beta_cmp, figsize=figsize)"
   ]
  },
  {
   "cell_type": "markdown",
   "metadata": {},
   "source": [
    "* The estimates are quite good, except for the later part of the sequence\n",
    "* This is due mostly to our choosing the plain MSE as a loss function"
   ]
  },
  {
   "cell_type": "markdown",
   "metadata": {
    "slideshow": {
     "slide_type": "subslide"
    }
   },
   "source": [
    "## Final Considerations\n",
    "\n",
    "**Keep in mind that this example has limitations**\n",
    "\n",
    "* In practice, a SIR model may not be the best match\n",
    "* The NPIs actually tested may cover the input space poorly\n",
    "* Some state component may not be measurable (e.g. $S$)\n",
    "\n",
    "But the UDE approach is very flexible and can be quite effective\n",
    "\n",
    "**What is the connection with constraints?**\n",
    "\n",
    "* A simple approach to account for constraints in ML\n",
    "* ...Is to enforce them at an architectural level\n",
    "\n",
    "UDEs are one interesting case of this more general template"
   ]
  }
 ],
 "metadata": {
  "celltoolbar": "Slideshow",
  "kernelspec": {
   "display_name": "Python 3 (ipykernel)",
   "language": "python",
   "name": "python3"
  },
  "language_info": {
   "codemirror_mode": {
    "name": "ipython",
    "version": 3
   },
   "file_extension": ".py",
   "mimetype": "text/x-python",
   "name": "python",
   "nbconvert_exporter": "python",
   "pygments_lexer": "ipython3",
   "version": "3.8.10"
  },
  "rise": {
   "center": false,
   "enable_chalkboard": true,
   "transition": "fade"
  }
 },
 "nbformat": 4,
 "nbformat_minor": 4
}
