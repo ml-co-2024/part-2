{
 "cells": [
  {
   "cell_type": "code",
   "execution_count": 1,
   "metadata": {
    "slideshow": {
     "slide_type": "skip"
    }
   },
   "outputs": [],
   "source": [
    "# ============================================================\n",
    "# Notebook setup\n",
    "# ============================================================\n",
    "\n",
    "%load_ext autoreload\n",
    "%autoreload 2\n",
    "\n",
    "# Control figure size\n",
    "figsize=(14, 5)\n",
    "\n",
    "from util import util\n",
    "import numpy as np\n",
    "from sklearn.preprocessing import MinMaxScaler, StandardScaler\n",
    "import pandas as pd\n",
    "from sklearn.metrics import r2_score\n",
    "import os\n",
    "\n",
    "# Load data\n",
    "data_folder = os.path.join('..', 'data')"
   ]
  },
  {
   "cell_type": "markdown",
   "metadata": {
    "slideshow": {
     "slide_type": "slide"
    }
   },
   "source": [
    "# A Case Study for Constrained ML\n",
    "\n",
    "I can't get no // satisfaction"
   ]
  },
  {
   "cell_type": "markdown",
   "metadata": {
    "slideshow": {
     "slide_type": "subslide"
    }
   },
   "source": [
    "## Constrained ML\n",
    "\n",
    "**Sometimes, we _need_ ML models to satisfy certain properties**\n",
    "\n",
    "...Regardless of how that impacts accuracy\n",
    "\n",
    "* This may be necessary for compliance with existing regulations\n",
    "* ...With ethical principles (e.g. fairness)\n",
    "* ...With safety consideration\n",
    "* ...Or with user expectations"
   ]
  },
  {
   "cell_type": "markdown",
   "metadata": {
    "slideshow": {
     "slide_type": "fragment"
    }
   },
   "source": [
    "**In these situations, we don't care about knowledge injection**\n",
    "\n",
    "...But really about _constraint satisfaction_\n",
    "\n",
    "* Constraint satisfaction is not just a tool to achieve better accuracy\n",
    "* ...But a goal in its own right\n",
    "\n",
    "> **We will refer to this setup as _Constrained ML_**"
   ]
  },
  {
   "cell_type": "markdown",
   "metadata": {
    "slideshow": {
     "slide_type": "subslide"
    }
   },
   "source": [
    "## A Case Study: Fairness in ML Models\n",
    "\n",
    "**As a case study, say we want to estimate the risk of violent crimes**\n",
    "\n",
    "<center><img src=\"assets/minority-report.jpg\" width=25%/></center>\n",
    "\n",
    "* This is obviously a very _ethically sensitive (and questionable) task_\n",
    "* Our model may easily end up discriminating some social groups"
   ]
  },
  {
   "cell_type": "markdown",
   "metadata": {
    "slideshow": {
     "slide_type": "subslide"
    }
   },
   "source": [
    "## Loading and Preparing the Dataset\n",
    "\n",
    "**We will start by loading the [\"crime\" UCI dataset](https://archive.ics.uci.edu/ml/datasets/Communities+and+Crime)**\n",
    "\n",
    "We will use a pre-processed version:"
   ]
  },
  {
   "cell_type": "code",
   "execution_count": 2,
   "metadata": {
    "scrolled": false
   },
   "outputs": [
    {
     "data": {
      "text/html": [
       "<div>\n",
       "<style scoped>\n",
       "    .dataframe tbody tr th:only-of-type {\n",
       "        vertical-align: middle;\n",
       "    }\n",
       "\n",
       "    .dataframe tbody tr th {\n",
       "        vertical-align: top;\n",
       "    }\n",
       "\n",
       "    .dataframe thead th {\n",
       "        text-align: right;\n",
       "    }\n",
       "</style>\n",
       "<table border=\"1\" class=\"dataframe\">\n",
       "  <thead>\n",
       "    <tr style=\"text-align: right;\">\n",
       "      <th></th>\n",
       "      <th>communityname</th>\n",
       "      <th>state</th>\n",
       "      <th>fold</th>\n",
       "      <th>pop</th>\n",
       "      <th>race</th>\n",
       "      <th>pct12-21</th>\n",
       "      <th>pct12-29</th>\n",
       "      <th>pct16-24</th>\n",
       "      <th>pct65up</th>\n",
       "      <th>pctUrban</th>\n",
       "      <th>...</th>\n",
       "      <th>pctForeignBorn</th>\n",
       "      <th>pctBornStateResid</th>\n",
       "      <th>pctSameHouse-5</th>\n",
       "      <th>pctSameCounty-5</th>\n",
       "      <th>pctSameState-5</th>\n",
       "      <th>landArea</th>\n",
       "      <th>popDensity</th>\n",
       "      <th>pctUsePubTrans</th>\n",
       "      <th>pctOfficDrugUnit</th>\n",
       "      <th>violentPerPop</th>\n",
       "    </tr>\n",
       "  </thead>\n",
       "  <tbody>\n",
       "    <tr>\n",
       "      <th>1008</th>\n",
       "      <td>EastLampetertownship</td>\n",
       "      <td>PA</td>\n",
       "      <td>5</td>\n",
       "      <td>11999</td>\n",
       "      <td>0</td>\n",
       "      <td>0.1203</td>\n",
       "      <td>0.2544</td>\n",
       "      <td>0.1208</td>\n",
       "      <td>0.1302</td>\n",
       "      <td>0.5776</td>\n",
       "      <td>...</td>\n",
       "      <td>0.0288</td>\n",
       "      <td>0.8132</td>\n",
       "      <td>0.6033</td>\n",
       "      <td>0.8597</td>\n",
       "      <td>0.9219</td>\n",
       "      <td>20.7</td>\n",
       "      <td>580.7</td>\n",
       "      <td>0.0103</td>\n",
       "      <td>0.0000</td>\n",
       "      <td>147.49</td>\n",
       "    </tr>\n",
       "    <tr>\n",
       "      <th>1271</th>\n",
       "      <td>EastProvidencecity</td>\n",
       "      <td>RI</td>\n",
       "      <td>6</td>\n",
       "      <td>50380</td>\n",
       "      <td>0</td>\n",
       "      <td>0.1171</td>\n",
       "      <td>0.2459</td>\n",
       "      <td>0.1159</td>\n",
       "      <td>0.1660</td>\n",
       "      <td>1.0000</td>\n",
       "      <td>...</td>\n",
       "      <td>0.1474</td>\n",
       "      <td>0.6561</td>\n",
       "      <td>0.6557</td>\n",
       "      <td>0.8929</td>\n",
       "      <td>0.9252</td>\n",
       "      <td>13.9</td>\n",
       "      <td>3629.0</td>\n",
       "      <td>0.0357</td>\n",
       "      <td>0.0000</td>\n",
       "      <td>150.88</td>\n",
       "    </tr>\n",
       "    <tr>\n",
       "      <th>1936</th>\n",
       "      <td>Betheltown</td>\n",
       "      <td>CT</td>\n",
       "      <td>9</td>\n",
       "      <td>17541</td>\n",
       "      <td>0</td>\n",
       "      <td>0.1356</td>\n",
       "      <td>0.2507</td>\n",
       "      <td>0.1138</td>\n",
       "      <td>0.0804</td>\n",
       "      <td>0.8514</td>\n",
       "      <td>...</td>\n",
       "      <td>0.0853</td>\n",
       "      <td>0.4878</td>\n",
       "      <td>0.5953</td>\n",
       "      <td>0.8485</td>\n",
       "      <td>0.8689</td>\n",
       "      <td>17.4</td>\n",
       "      <td>1008.2</td>\n",
       "      <td>0.0252</td>\n",
       "      <td>0.0000</td>\n",
       "      <td>95.47</td>\n",
       "    </tr>\n",
       "    <tr>\n",
       "      <th>1601</th>\n",
       "      <td>Crowleycity</td>\n",
       "      <td>LA</td>\n",
       "      <td>8</td>\n",
       "      <td>13983</td>\n",
       "      <td>0</td>\n",
       "      <td>0.1506</td>\n",
       "      <td>0.2587</td>\n",
       "      <td>0.1234</td>\n",
       "      <td>0.1302</td>\n",
       "      <td>0.0000</td>\n",
       "      <td>...</td>\n",
       "      <td>0.0029</td>\n",
       "      <td>0.9314</td>\n",
       "      <td>0.5898</td>\n",
       "      <td>0.9219</td>\n",
       "      <td>0.9769</td>\n",
       "      <td>4.7</td>\n",
       "      <td>2957.5</td>\n",
       "      <td>0.0098</td>\n",
       "      <td>0.0000</td>\n",
       "      <td>1029.02</td>\n",
       "    </tr>\n",
       "    <tr>\n",
       "      <th>293</th>\n",
       "      <td>Pawtucketcity</td>\n",
       "      <td>RI</td>\n",
       "      <td>2</td>\n",
       "      <td>72644</td>\n",
       "      <td>0</td>\n",
       "      <td>0.1230</td>\n",
       "      <td>0.2725</td>\n",
       "      <td>0.1276</td>\n",
       "      <td>0.1464</td>\n",
       "      <td>1.0000</td>\n",
       "      <td>...</td>\n",
       "      <td>0.1771</td>\n",
       "      <td>0.6363</td>\n",
       "      <td>0.5807</td>\n",
       "      <td>0.8805</td>\n",
       "      <td>0.8906</td>\n",
       "      <td>9.1</td>\n",
       "      <td>8027.0</td>\n",
       "      <td>0.0318</td>\n",
       "      <td>0.1103</td>\n",
       "      <td>458.28</td>\n",
       "    </tr>\n",
       "  </tbody>\n",
       "</table>\n",
       "<p>5 rows × 101 columns</p>\n",
       "</div>"
      ],
      "text/plain": [
       "             communityname state  fold    pop  race  pct12-21  pct12-29  \\\n",
       "1008  EastLampetertownship    PA     5  11999     0    0.1203    0.2544   \n",
       "1271    EastProvidencecity    RI     6  50380     0    0.1171    0.2459   \n",
       "1936            Betheltown    CT     9  17541     0    0.1356    0.2507   \n",
       "1601           Crowleycity    LA     8  13983     0    0.1506    0.2587   \n",
       "293          Pawtucketcity    RI     2  72644     0    0.1230    0.2725   \n",
       "\n",
       "      pct16-24  pct65up  pctUrban  ...  pctForeignBorn  pctBornStateResid  \\\n",
       "1008    0.1208   0.1302    0.5776  ...          0.0288             0.8132   \n",
       "1271    0.1159   0.1660    1.0000  ...          0.1474             0.6561   \n",
       "1936    0.1138   0.0804    0.8514  ...          0.0853             0.4878   \n",
       "1601    0.1234   0.1302    0.0000  ...          0.0029             0.9314   \n",
       "293     0.1276   0.1464    1.0000  ...          0.1771             0.6363   \n",
       "\n",
       "      pctSameHouse-5  pctSameCounty-5  pctSameState-5  landArea  popDensity  \\\n",
       "1008          0.6033           0.8597          0.9219      20.7       580.7   \n",
       "1271          0.6557           0.8929          0.9252      13.9      3629.0   \n",
       "1936          0.5953           0.8485          0.8689      17.4      1008.2   \n",
       "1601          0.5898           0.9219          0.9769       4.7      2957.5   \n",
       "293           0.5807           0.8805          0.8906       9.1      8027.0   \n",
       "\n",
       "      pctUsePubTrans  pctOfficDrugUnit  violentPerPop  \n",
       "1008          0.0103            0.0000         147.49  \n",
       "1271          0.0357            0.0000         150.88  \n",
       "1936          0.0252            0.0000          95.47  \n",
       "1601          0.0098            0.0000        1029.02  \n",
       "293           0.0318            0.1103         458.28  \n",
       "\n",
       "[5 rows x 101 columns]"
      ]
     },
     "execution_count": 2,
     "metadata": {},
     "output_type": "execute_result"
    }
   ],
   "source": [
    "data = util.load_communities_data(data_folder)\n",
    "attributes = data.columns[3:-1]\n",
    "target = data.columns[-1]\n",
    "data.head()"
   ]
  },
  {
   "cell_type": "markdown",
   "metadata": {},
   "source": [
    "The target is \"violentPerPop\" (number of violent offenders per 100K people)"
   ]
  },
  {
   "cell_type": "markdown",
   "metadata": {
    "slideshow": {
     "slide_type": "subslide"
    }
   },
   "source": [
    "## Loading and Preparing the Dataset\n",
    "\n",
    "**We prepare for normalizing all numeric attributes**\n",
    "\n",
    "* The only categorical input is \"race\" (0 = primarily \"white\", 1 = primarily \"black\")\n",
    "* Incidentally, \"race\" is _a natural focus to check for discrimination_\n",
    "\n",
    "**We define the train-test divide and we identify the numerical inputs**"
   ]
  },
  {
   "cell_type": "code",
   "execution_count": 3,
   "metadata": {},
   "outputs": [],
   "source": [
    "tr_frac = 0.8 # 80% data for training\n",
    "tr_sep = int(len(data) * tr_frac)\n",
    "nf = [a for a in attributes if a != 'race'] + [target]"
   ]
  },
  {
   "cell_type": "markdown",
   "metadata": {},
   "source": [
    "We normalize the data and convert to float32 (to make TensorFlow happier)"
   ]
  },
  {
   "cell_type": "code",
   "execution_count": 4,
   "metadata": {},
   "outputs": [],
   "source": [
    "tmp = data.iloc[:tr_sep]\n",
    "scale = tmp[nf].max()\n",
    "sdata = data.copy()\n",
    "sdata[nf] /= scale[nf]\n",
    "\n",
    "sdata[attributes] = sdata[attributes].astype(np.float32)\n",
    "sdata[target] = sdata[target].astype(np.float32)"
   ]
  },
  {
   "cell_type": "markdown",
   "metadata": {
    "slideshow": {
     "slide_type": "subslide"
    }
   },
   "source": [
    "## Loading and Preparing the Dataset\n",
    "\n",
    "**Finally we can separate the training and test set**"
   ]
  },
  {
   "cell_type": "code",
   "execution_count": 5,
   "metadata": {},
   "outputs": [
    {
     "data": {
      "text/html": [
       "<div>\n",
       "<style scoped>\n",
       "    .dataframe tbody tr th:only-of-type {\n",
       "        vertical-align: middle;\n",
       "    }\n",
       "\n",
       "    .dataframe tbody tr th {\n",
       "        vertical-align: top;\n",
       "    }\n",
       "\n",
       "    .dataframe thead th {\n",
       "        text-align: right;\n",
       "    }\n",
       "</style>\n",
       "<table border=\"1\" class=\"dataframe\">\n",
       "  <thead>\n",
       "    <tr style=\"text-align: right;\">\n",
       "      <th></th>\n",
       "      <th>fold</th>\n",
       "      <th>pop</th>\n",
       "      <th>race</th>\n",
       "      <th>pct12-21</th>\n",
       "      <th>pct12-29</th>\n",
       "      <th>pct16-24</th>\n",
       "      <th>pct65up</th>\n",
       "      <th>pctUrban</th>\n",
       "      <th>medIncome</th>\n",
       "      <th>pctWwage</th>\n",
       "      <th>...</th>\n",
       "      <th>pctForeignBorn</th>\n",
       "      <th>pctBornStateResid</th>\n",
       "      <th>pctSameHouse-5</th>\n",
       "      <th>pctSameCounty-5</th>\n",
       "      <th>pctSameState-5</th>\n",
       "      <th>landArea</th>\n",
       "      <th>popDensity</th>\n",
       "      <th>pctUsePubTrans</th>\n",
       "      <th>pctOfficDrugUnit</th>\n",
       "      <th>violentPerPop</th>\n",
       "    </tr>\n",
       "  </thead>\n",
       "  <tbody>\n",
       "    <tr>\n",
       "      <th>count</th>\n",
       "      <td>1594.000000</td>\n",
       "      <td>1594.000000</td>\n",
       "      <td>1594.000000</td>\n",
       "      <td>1594.000000</td>\n",
       "      <td>1594.000000</td>\n",
       "      <td>1594.000000</td>\n",
       "      <td>1594.000000</td>\n",
       "      <td>1594.000000</td>\n",
       "      <td>1594.000000</td>\n",
       "      <td>1594.000000</td>\n",
       "      <td>...</td>\n",
       "      <td>1594.000000</td>\n",
       "      <td>1594.000000</td>\n",
       "      <td>1594.000000</td>\n",
       "      <td>1594.000000</td>\n",
       "      <td>1594.000000</td>\n",
       "      <td>1594.000000</td>\n",
       "      <td>1594.000000</td>\n",
       "      <td>1594.000000</td>\n",
       "      <td>1594.000000</td>\n",
       "      <td>1594.000000</td>\n",
       "    </tr>\n",
       "    <tr>\n",
       "      <th>mean</th>\n",
       "      <td>5.515056</td>\n",
       "      <td>0.007309</td>\n",
       "      <td>0.031995</td>\n",
       "      <td>0.266962</td>\n",
       "      <td>0.398600</td>\n",
       "      <td>0.230577</td>\n",
       "      <td>0.226739</td>\n",
       "      <td>0.695383</td>\n",
       "      <td>0.272795</td>\n",
       "      <td>0.808877</td>\n",
       "      <td>...</td>\n",
       "      <td>0.126063</td>\n",
       "      <td>0.649191</td>\n",
       "      <td>0.651699</td>\n",
       "      <td>0.796561</td>\n",
       "      <td>0.886649</td>\n",
       "      <td>0.009499</td>\n",
       "      <td>0.062829</td>\n",
       "      <td>0.057092</td>\n",
       "      <td>0.021317</td>\n",
       "      <td>0.118508</td>\n",
       "    </tr>\n",
       "    <tr>\n",
       "      <th>std</th>\n",
       "      <td>2.912637</td>\n",
       "      <td>0.030287</td>\n",
       "      <td>0.176042</td>\n",
       "      <td>0.084005</td>\n",
       "      <td>0.090329</td>\n",
       "      <td>0.098553</td>\n",
       "      <td>0.091256</td>\n",
       "      <td>0.445105</td>\n",
       "      <td>0.108972</td>\n",
       "      <td>0.081297</td>\n",
       "      <td>...</td>\n",
       "      <td>0.144243</td>\n",
       "      <td>0.183083</td>\n",
       "      <td>0.135358</td>\n",
       "      <td>0.112796</td>\n",
       "      <td>0.077034</td>\n",
       "      <td>0.028955</td>\n",
       "      <td>0.065060</td>\n",
       "      <td>0.092881</td>\n",
       "      <td>0.061344</td>\n",
       "      <td>0.123444</td>\n",
       "    </tr>\n",
       "    <tr>\n",
       "      <th>min</th>\n",
       "      <td>1.000000</td>\n",
       "      <td>0.001368</td>\n",
       "      <td>0.000000</td>\n",
       "      <td>0.084191</td>\n",
       "      <td>0.134635</td>\n",
       "      <td>0.075644</td>\n",
       "      <td>0.031457</td>\n",
       "      <td>0.000000</td>\n",
       "      <td>0.104413</td>\n",
       "      <td>0.327882</td>\n",
       "      <td>...</td>\n",
       "      <td>0.003182</td>\n",
       "      <td>0.072472</td>\n",
       "      <td>0.150586</td>\n",
       "      <td>0.289367</td>\n",
       "      <td>0.332187</td>\n",
       "      <td>0.000335</td>\n",
       "      <td>0.000226</td>\n",
       "      <td>0.000000</td>\n",
       "      <td>0.000000</td>\n",
       "      <td>0.001097</td>\n",
       "    </tr>\n",
       "    <tr>\n",
       "      <th>25%</th>\n",
       "      <td>3.000000</td>\n",
       "      <td>0.001943</td>\n",
       "      <td>0.000000</td>\n",
       "      <td>0.225230</td>\n",
       "      <td>0.350689</td>\n",
       "      <td>0.185238</td>\n",
       "      <td>0.167614</td>\n",
       "      <td>0.000000</td>\n",
       "      <td>0.190973</td>\n",
       "      <td>0.759677</td>\n",
       "      <td>...</td>\n",
       "      <td>0.035541</td>\n",
       "      <td>0.525016</td>\n",
       "      <td>0.566446</td>\n",
       "      <td>0.743167</td>\n",
       "      <td>0.854675</td>\n",
       "      <td>0.002754</td>\n",
       "      <td>0.026280</td>\n",
       "      <td>0.006672</td>\n",
       "      <td>0.000000</td>\n",
       "      <td>0.032800</td>\n",
       "    </tr>\n",
       "    <tr>\n",
       "      <th>50%</th>\n",
       "      <td>5.000000</td>\n",
       "      <td>0.003035</td>\n",
       "      <td>0.000000</td>\n",
       "      <td>0.250919</td>\n",
       "      <td>0.385173</td>\n",
       "      <td>0.205575</td>\n",
       "      <td>0.223138</td>\n",
       "      <td>1.000000</td>\n",
       "      <td>0.249509</td>\n",
       "      <td>0.813755</td>\n",
       "      <td>...</td>\n",
       "      <td>0.075352</td>\n",
       "      <td>0.669369</td>\n",
       "      <td>0.658096</td>\n",
       "      <td>0.819391</td>\n",
       "      <td>0.905697</td>\n",
       "      <td>0.005099</td>\n",
       "      <td>0.045234</td>\n",
       "      <td>0.022823</td>\n",
       "      <td>0.000000</td>\n",
       "      <td>0.076430</td>\n",
       "    </tr>\n",
       "    <tr>\n",
       "      <th>75%</th>\n",
       "      <td>8.000000</td>\n",
       "      <td>0.005922</td>\n",
       "      <td>0.000000</td>\n",
       "      <td>0.283824</td>\n",
       "      <td>0.419908</td>\n",
       "      <td>0.235735</td>\n",
       "      <td>0.275298</td>\n",
       "      <td>1.000000</td>\n",
       "      <td>0.334641</td>\n",
       "      <td>0.866125</td>\n",
       "      <td>...</td>\n",
       "      <td>0.155517</td>\n",
       "      <td>0.798529</td>\n",
       "      <td>0.744017</td>\n",
       "      <td>0.875764</td>\n",
       "      <td>0.938556</td>\n",
       "      <td>0.009667</td>\n",
       "      <td>0.074085</td>\n",
       "      <td>0.064651</td>\n",
       "      <td>0.000000</td>\n",
       "      <td>0.159716</td>\n",
       "    </tr>\n",
       "    <tr>\n",
       "      <th>max</th>\n",
       "      <td>10.000000</td>\n",
       "      <td>1.000000</td>\n",
       "      <td>1.000000</td>\n",
       "      <td>1.000000</td>\n",
       "      <td>1.000000</td>\n",
       "      <td>1.000000</td>\n",
       "      <td>1.000000</td>\n",
       "      <td>1.000000</td>\n",
       "      <td>1.000000</td>\n",
       "      <td>1.000000</td>\n",
       "      <td>...</td>\n",
       "      <td>1.000000</td>\n",
       "      <td>1.000000</td>\n",
       "      <td>1.000000</td>\n",
       "      <td>1.000000</td>\n",
       "      <td>1.000000</td>\n",
       "      <td>1.000000</td>\n",
       "      <td>1.000000</td>\n",
       "      <td>1.000000</td>\n",
       "      <td>1.000000</td>\n",
       "      <td>1.000000</td>\n",
       "    </tr>\n",
       "  </tbody>\n",
       "</table>\n",
       "<p>8 rows × 99 columns</p>\n",
       "</div>"
      ],
      "text/plain": [
       "              fold          pop         race     pct12-21     pct12-29  \\\n",
       "count  1594.000000  1594.000000  1594.000000  1594.000000  1594.000000   \n",
       "mean      5.515056     0.007309     0.031995     0.266962     0.398600   \n",
       "std       2.912637     0.030287     0.176042     0.084005     0.090329   \n",
       "min       1.000000     0.001368     0.000000     0.084191     0.134635   \n",
       "25%       3.000000     0.001943     0.000000     0.225230     0.350689   \n",
       "50%       5.000000     0.003035     0.000000     0.250919     0.385173   \n",
       "75%       8.000000     0.005922     0.000000     0.283824     0.419908   \n",
       "max      10.000000     1.000000     1.000000     1.000000     1.000000   \n",
       "\n",
       "          pct16-24      pct65up     pctUrban    medIncome     pctWwage  ...  \\\n",
       "count  1594.000000  1594.000000  1594.000000  1594.000000  1594.000000  ...   \n",
       "mean      0.230577     0.226739     0.695383     0.272795     0.808877  ...   \n",
       "std       0.098553     0.091256     0.445105     0.108972     0.081297  ...   \n",
       "min       0.075644     0.031457     0.000000     0.104413     0.327882  ...   \n",
       "25%       0.185238     0.167614     0.000000     0.190973     0.759677  ...   \n",
       "50%       0.205575     0.223138     1.000000     0.249509     0.813755  ...   \n",
       "75%       0.235735     0.275298     1.000000     0.334641     0.866125  ...   \n",
       "max       1.000000     1.000000     1.000000     1.000000     1.000000  ...   \n",
       "\n",
       "       pctForeignBorn  pctBornStateResid  pctSameHouse-5  pctSameCounty-5  \\\n",
       "count     1594.000000        1594.000000     1594.000000      1594.000000   \n",
       "mean         0.126063           0.649191        0.651699         0.796561   \n",
       "std          0.144243           0.183083        0.135358         0.112796   \n",
       "min          0.003182           0.072472        0.150586         0.289367   \n",
       "25%          0.035541           0.525016        0.566446         0.743167   \n",
       "50%          0.075352           0.669369        0.658096         0.819391   \n",
       "75%          0.155517           0.798529        0.744017         0.875764   \n",
       "max          1.000000           1.000000        1.000000         1.000000   \n",
       "\n",
       "       pctSameState-5     landArea   popDensity  pctUsePubTrans  \\\n",
       "count     1594.000000  1594.000000  1594.000000     1594.000000   \n",
       "mean         0.886649     0.009499     0.062829        0.057092   \n",
       "std          0.077034     0.028955     0.065060        0.092881   \n",
       "min          0.332187     0.000335     0.000226        0.000000   \n",
       "25%          0.854675     0.002754     0.026280        0.006672   \n",
       "50%          0.905697     0.005099     0.045234        0.022823   \n",
       "75%          0.938556     0.009667     0.074085        0.064651   \n",
       "max          1.000000     1.000000     1.000000        1.000000   \n",
       "\n",
       "       pctOfficDrugUnit  violentPerPop  \n",
       "count       1594.000000    1594.000000  \n",
       "mean           0.021317       0.118508  \n",
       "std            0.061344       0.123444  \n",
       "min            0.000000       0.001097  \n",
       "25%            0.000000       0.032800  \n",
       "50%            0.000000       0.076430  \n",
       "75%            0.000000       0.159716  \n",
       "max            1.000000       1.000000  \n",
       "\n",
       "[8 rows x 99 columns]"
      ]
     },
     "execution_count": 5,
     "metadata": {},
     "output_type": "execute_result"
    }
   ],
   "source": [
    "tr = sdata.iloc[:tr_sep]\n",
    "ts = sdata.iloc[tr_sep:]\n",
    "tr.describe()"
   ]
  },
  {
   "cell_type": "markdown",
   "metadata": {
    "slideshow": {
     "slide_type": "subslide"
    }
   },
   "source": [
    "## Baseline\n",
    "\n",
    "**Let's establish a baseline by tackling the task via Linear Regression**"
   ]
  },
  {
   "cell_type": "code",
   "execution_count": 6,
   "metadata": {},
   "outputs": [
    {
     "data": {
      "image/png": "[encoded data removed]",
      "text/plain": [
       "<Figure size 1400x500 with 1 Axes>"
      ]
     },
     "metadata": {},
     "output_type": "display_data"
    },
    {
     "name": "stdout",
     "output_type": "stream",
     "text": [
      "Model loss: 0.0056 (training)\n"
     ]
    }
   ],
   "source": [
    "nn = util.build_ml_model(input_size=len(attributes), output_size=1, hidden=[])\n",
    "history = util.train_ml_model(nn, tr[attributes], tr[target], validation_split=0., epochs=200)\n",
    "util.plot_training_history(history, figsize=figsize)"
   ]
  },
  {
   "cell_type": "markdown",
   "metadata": {
    "slideshow": {
     "slide_type": "subslide"
    }
   },
   "source": [
    "## Baseline Evaluation\n",
    "\n",
    "**...And let's check the results**"
   ]
  },
  {
   "cell_type": "code",
   "execution_count": 7,
   "metadata": {},
   "outputs": [
    {
     "name": "stdout",
     "output_type": "stream",
     "text": [
      "R2 score: 0.62 (training), 0.54 (test)\n"
     ]
    }
   ],
   "source": [
    "tr_pred = nn.predict(tr[attributes], verbose=0)\n",
    "r2_tr = r2_score(tr[target], tr_pred)\n",
    "\n",
    "ts_pred = nn.predict(ts[attributes], verbose=0)\n",
    "r2_ts = r2_score(ts[target], ts_pred)\n",
    "\n",
    "print(f'R2 score: {r2_tr:.2f} (training), {r2_ts:.2f} (test)')"
   ]
  },
  {
   "cell_type": "markdown",
   "metadata": {},
   "source": [
    "* They are not super (definitely not [PreCrime](https://en.wikipedia.org/wiki/The_Minority_Report) level), but not alwful either\n",
    "* Some improvements (not much) can be obtained with a Deeper model\n",
    "\n",
    "**We will keep Linear Regression as a baseline**"
   ]
  },
  {
   "cell_type": "markdown",
   "metadata": {
    "slideshow": {
     "slide_type": "subslide"
    }
   },
   "source": [
    "## Discrimination Indexes\n",
    "\n",
    "**Discrimination can be linked to _disparate treatment_**\n",
    "\n",
    "* \"race\" _may not be even among the input attributes_\n",
    "* ...And yet it may be taken into account implicitly (i.e. via correlates)\n",
    "\n",
    "**But we can check whether the model _treats differently different groups_:**\n"
   ]
  },
  {
   "cell_type": "code",
   "execution_count": 8,
   "metadata": {},
   "outputs": [
    {
     "data": {
      "image/png": "[encoded data removed]",
      "text/plain": [
       "<Figure size 1400x300 with 1 Axes>"
      ]
     },
     "metadata": {},
     "output_type": "display_data"
    }
   ],
   "source": [
    "protected = {'race': (0, 1)}\n",
    "util.plot_pred_by_protected(tr, tr_pred, protected, figsize=(figsize[0], 0.6*figsize[1]))"
   ]
  },
  {
   "cell_type": "markdown",
   "metadata": {},
   "source": [
    "Indeed, our model has a significant degree of discrimination"
   ]
  },
  {
   "cell_type": "markdown",
   "metadata": {
    "slideshow": {
     "slide_type": "subslide"
    }
   },
   "source": [
    "## Discrimination Indexes\n",
    "\n",
    "**A number of _discrimination indexes_ attempt to measure discrimination**\n",
    "\n",
    "* Whether ethics itself can be measured is _highly debatable_!\n",
    "* ...But even if imperfect, this currently the best we can do\n",
    "\n",
    "**We will use the [Disparate Impact Discrimination Index](https://www.aaai.org/ojs/index.php/AAAI/article/download/3943/3821)**\n",
    "\n",
    "* Given a set of categorical _protected attribute (indexes) $J_p$_\n",
    "* ...The regression for of the regression form of the index ($\\text{DIDI}_r$) is given by:\n",
    "\n",
    "$$\n",
    "\\sum_{j \\in J_p} \\sum_{v \\in D_{j}} \\left|\\frac{1}{m} \\sum_{i=1}^m y_i - \\frac{1}{|I_{j,v}|} \\sum_{i \\in I_{j,v}} y_{i}\\right|\n",
    "$$\n",
    "\n",
    "* Where $D_j$ is the domain of attribute $j$\n",
    "* ...And $I_{j,v}$ is the set of example such that attribute $j$ has value $v$\n",
    "\n",
    "\n"
   ]
  },
  {
   "cell_type": "markdown",
   "metadata": {
    "slideshow": {
     "slide_type": "subslide"
    }
   },
   "source": [
    "## DIDI\n",
    "\n",
    "**Let's make some intuitive sense of the $\\text{DIDI}_r$ formula**\n",
    "\n",
    "$$\n",
    "\\sum_{j \\in J_p} \\sum_{v \\in D_{j}} \\left|\\frac{1}{m} \\sum_{i=1}^m y_i - \\frac{1}{|I_{j,v}|} \\sum_{i \\in I_{j,v}} y_{i}\\right|\n",
    "$$\n",
    "\n",
    "* $\\frac{1}{m} \\sum_{i=1}^m y_i$ is just the average predicted value\n",
    "* The protected attribute defines social groups\n",
    "* $\\frac{1}{|I_{j,v}|} \\sum_{i \\in I_{j,v}} y_{i}$ is the average prediction for a social group\n",
    "\n",
    "**We penalize _deviations from the global average_**\n",
    "\n",
    "* Obviously this is not necessarily the best definition, but it is something\n",
    "* In general, different tasks will call for different discrimination indexes\n",
    "\n",
    "...And don't forget the whole \"can we actually measure ethics\" issue ;-)"
   ]
  },
  {
   "cell_type": "markdown",
   "metadata": {
    "slideshow": {
     "slide_type": "subslide"
    }
   },
   "source": [
    "## DIDI\n",
    "\n",
    "**We can compute the DIDI via the following function**\n",
    "\n",
    "```python\n",
    "def DIDI_r(data, pred, protected):\n",
    "    res, avg = 0, np.mean(pred)\n",
    "    for aname, dom in protected.items():\n",
    "        for val in dom:\n",
    "            mask = (data[aname] == val)\n",
    "            res += abs(avg - np.mean(pred[mask]))\n",
    "    return res\n",
    "```\n",
    "\n",
    "* `protected` contains the protected attribute names with their domain\n",
    "\n",
    "**For our original Linear Regression model, we get**"
   ]
  },
  {
   "cell_type": "code",
   "execution_count": 9,
   "metadata": {},
   "outputs": [
    {
     "name": "stdout",
     "output_type": "stream",
     "text": [
      "DIDI: 0.27 (training), 0.29 (test)\n"
     ]
    }
   ],
   "source": [
    "tr_DIDI = util.DIDI_r(tr, tr_pred, protected)\n",
    "ts_DIDI = util.DIDI_r(ts, ts_pred, protected)\n",
    "print(f'DIDI: {tr_DIDI:.2f} (training), {ts_DIDI:.2f} (test)')"
   ]
  },
  {
   "cell_type": "markdown",
   "metadata": {
    "slideshow": {
     "slide_type": "subslide"
    }
   },
   "source": [
    "## Fairness Constraints\n",
    "\n",
    "**Discrimination indexes can be used to state _fairness constraints_**\n",
    "\n",
    "For example, we may require:\n",
    "$$\n",
    "\\text{DIDI}_r(\\hat{y}) \\leq \\varepsilon  \\quad \\text{ with: } \\hat{y} = f(x; \\theta)\n",
    "$$\n",
    "\n",
    "* Where $f$ is a ML model"
   ]
  },
  {
   "cell_type": "markdown",
   "metadata": {},
   "source": [
    "**Fairness constraints are an example of _distribution constraint_**\n",
    "\n",
    "...Since they specify desired properties for a _statistical distribution_\n",
    "\n",
    "* Since most distributions are now known in analytical form\n",
    "* ...Enforcing these kind of constraint exactly is very difficult"
   ]
  },
  {
   "cell_type": "markdown",
   "metadata": {},
   "source": [
    "**In practice, _Monte-Carlo approximations_ are typically employed**\n",
    "\n",
    "In our example, the DIDI uses a Monte-Carlo approximation for expectations"
   ]
  }
 ],
 "metadata": {
  "celltoolbar": "Slideshow",
  "kernelspec": {
   "display_name": "Python 3 (ipykernel)",
   "language": "python",
   "name": "python3"
  },
  "language_info": {
   "codemirror_mode": {
    "name": "ipython",
    "version": 3
   },
   "file_extension": ".py",
   "mimetype": "text/x-python",
   "name": "python",
   "nbconvert_exporter": "python",
   "pygments_lexer": "ipython3",
   "version": "3.11.8"
  },
  "rise": {
   "center": false,
   "transition": "fade"
  }
 },
 "nbformat": 4,
 "nbformat_minor": 4
}
