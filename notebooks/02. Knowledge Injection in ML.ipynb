{
 "cells": [
  {
   "cell_type": "code",
   "execution_count": 1,
   "metadata": {
    "slideshow": {
     "slide_type": "skip"
    }
   },
   "outputs": [],
   "source": [
    "# ============================================================\n",
    "# Notebook setup\n",
    "# ============================================================\n",
    "\n",
    "%load_ext autoreload\n",
    "%autoreload 2\n",
    "\n",
    "# Control figure size\n",
    "figsize=(14, 4.5)\n",
    "\n",
    "from util import util\n",
    "import os\n",
    "import numpy as np\n",
    "from sklearn.preprocessing import MinMaxScaler, StandardScaler\n",
    "import pandas as pd\n",
    "\n",
    "# Load data\n",
    "data_folder = os.path.join('..', 'data')\n",
    "data = util.load_cmapss_data(data_folder)\n",
    "\n",
    "# Identify input columns\n",
    "dt_in = list(data.columns[3:-1])"
   ]
  },
  {
   "cell_type": "markdown",
   "metadata": {
    "slideshow": {
     "slide_type": "slide"
    }
   },
   "source": [
    "# Knowledge Injection in ML\n",
    "\n",
    "There are more things in heaven and earth, Horation, than in your dataset"
   ]
  },
  {
   "cell_type": "markdown",
   "metadata": {
    "slideshow": {
     "slide_type": "subslide"
    }
   },
   "source": [
    "## Data ⊂ Knowledge\n",
    "\n",
    "**ML methods excel at taking advantage of _implicit_ knowledge _from data_**\n",
    "\n",
    "...But not all knowledge comes in the form of datasets!\n",
    "\n",
    "* Rules of thumb, rough estimates\n",
    "* Know correlations and causal factors\n",
    "* Laws of physics\n",
    "* ...\n",
    "\n",
    "Knowledge from these sources is typically in _explicit_ form"
   ]
  },
  {
   "cell_type": "markdown",
   "metadata": {
    "slideshow": {
     "slide_type": "fragment"
    }
   },
   "source": [
    "**Exploiting this information is critical in many practical applications**\n",
    "\n",
    "Many domains can boast _decades of field knowledge_ and specialized methods\n",
    "\n",
    "* Trying to replace those with pure data-driven approaches can be challenging\n",
    "* ...And it can encounter a lot of resistance"
   ]
  },
  {
   "cell_type": "markdown",
   "metadata": {
    "slideshow": {
     "slide_type": "subslide"
    }
   },
   "source": [
    "## Knowledge Injection in ML\n",
    "\n",
    "**It would be far preferable to account for _all available information_**\n",
    "\n",
    "...Including both _explicit_ and _implicit_ knowledge\n",
    "\n",
    "* Implicit knowledge (data) is well-covered by ML methods\n",
    "* ...But explicit knowledge used to be the domain of symbolic AI\n",
    "\n",
    "How can we combined both?"
   ]
  },
  {
   "cell_type": "markdown",
   "metadata": {
    "slideshow": {
     "slide_type": "fragment"
    }
   },
   "source": [
    "**We could go for a \"generative\" approach**\n",
    "\n",
    "* We rely on symbolic knowledge for generating new examples\n",
    "* ...Then we proceed as usual in ML\n",
    "\n",
    "This how things are done in data augentation\n",
    "\n",
    "> **...But is that really the only approach?**"
   ]
  },
  {
   "cell_type": "markdown",
   "metadata": {
    "slideshow": {
     "slide_type": "subslide"
    }
   },
   "source": [
    "## Knowledge as Constraints\n",
    "\n",
    "**Knowledge can be though of _as a constraint_**\n",
    "\n",
    "E.g. predictions should satisfy certain symbolic properties\n",
    "\n",
    "* Predictions should lay within an interval\n",
    "* Predictions should be robust w.r.t. variations\n",
    "* ...\n",
    "\n",
    "> **So, enforcing constraints is a way to _\"inject knowledge\"_ in ML**"
   ]
  },
  {
   "cell_type": "markdown",
   "metadata": {
    "slideshow": {
     "slide_type": "fragment"
    }
   },
   "source": [
    "**The enforced constraints can be _hard_ or _soft_:**\n",
    "\n",
    "* Hard constraints should always hold\n",
    "* Soft constraints are expected to be violated to a some degree"
   ]
  },
  {
   "cell_type": "markdown",
   "metadata": {
    "slideshow": {
     "slide_type": "subslide"
    }
   },
   "source": [
    "<div class=big>\n",
    "Let's consider a use case for the idea of injecting knowledge via constraints\n",
    "</div>"
   ]
  },
  {
   "cell_type": "markdown",
   "metadata": {
    "slideshow": {
     "slide_type": "subslide"
    }
   },
   "source": [
    "## Scarce Labels in RUL Predictions\n",
    "\n",
    "**_RUL estimation_ is the holy grail of predictive maintenance**\n",
    "\n",
    "RUL stands for \"Remaining Useful Life\"\n",
    "\n",
    "* If you can predict when a machine will fail\n",
    "* ...Then you can plan maintenance in the best possible way"
   ]
  },
  {
   "cell_type": "markdown",
   "metadata": {},
   "source": [
    "**However, ground truth for RUL is hard to come by**\n",
    "\n",
    "...Since it requires performing run-to-failure experiments\n",
    "\n",
    "* These are time-consuming (machines are not designed to break)\n",
    "* ...Costly (machines can be expensive)\n",
    "* ...And difficult to perform (e.g. for complex machines)\n",
    "\n",
    "Typically, _only a few runs_ are available"
   ]
  },
  {
   "cell_type": "markdown",
   "metadata": {
    "slideshow": {
     "slide_type": "subslide"
    }
   },
   "source": [
    "## Scarce Labels in RUL Predictions\n",
    "\n",
    "**On the other hand, data about _normal_ operation is abundant**\n",
    "\n",
    "This may come from test runs, installed machines, etc.\n",
    "\n",
    "* Those machines will not be in a critical state\n",
    "* ...But they will still show sign of component wear"
   ]
  },
  {
   "cell_type": "markdown",
   "metadata": {
    "slideshow": {
     "slide_type": "fragment"
    }
   },
   "source": [
    "**In practice:, for normal operation**\n",
    "\n",
    "* We have access to the same observable as in run-to-failure experiments\n",
    "* ...But we have _no ground truth_\n",
    "\n",
    "> **Can we still take advantage of this data?**"
   ]
  },
  {
   "cell_type": "markdown",
   "metadata": {
    "slideshow": {
     "slide_type": "subslide"
    }
   },
   "source": [
    "## Data Loading and Preparation\n",
    "\n",
    "**We will rely on the [NASA C-MAPPS dataset](https://ti.arc.nasa.gov/tech/dash/groups/pcoe/prognostic-data-repository/)**\n",
    "\n",
    "...Which contains simulated run-to-failure experiments for turbo-fan engines"
   ]
  },
  {
   "cell_type": "code",
   "execution_count": 2,
   "metadata": {},
   "outputs": [
    {
     "data": {
      "text/html": [
       "<div>\n",
       "<style scoped>\n",
       "    .dataframe tbody tr th:only-of-type {\n",
       "        vertical-align: middle;\n",
       "    }\n",
       "\n",
       "    .dataframe tbody tr th {\n",
       "        vertical-align: top;\n",
       "    }\n",
       "\n",
       "    .dataframe thead th {\n",
       "        text-align: right;\n",
       "    }\n",
       "</style>\n",
       "<table border=\"1\" class=\"dataframe\">\n",
       "  <thead>\n",
       "    <tr style=\"text-align: right;\">\n",
       "      <th></th>\n",
       "      <th>src</th>\n",
       "      <th>machine</th>\n",
       "      <th>cycle</th>\n",
       "      <th>p1</th>\n",
       "      <th>p2</th>\n",
       "      <th>p3</th>\n",
       "      <th>s1</th>\n",
       "      <th>s2</th>\n",
       "      <th>s3</th>\n",
       "      <th>s4</th>\n",
       "      <th>...</th>\n",
       "      <th>s13</th>\n",
       "      <th>s14</th>\n",
       "      <th>s15</th>\n",
       "      <th>s16</th>\n",
       "      <th>s17</th>\n",
       "      <th>s18</th>\n",
       "      <th>s19</th>\n",
       "      <th>s20</th>\n",
       "      <th>s21</th>\n",
       "      <th>rul</th>\n",
       "    </tr>\n",
       "  </thead>\n",
       "  <tbody>\n",
       "    <tr>\n",
       "      <th>0</th>\n",
       "      <td>train_FD004</td>\n",
       "      <td>1</td>\n",
       "      <td>1</td>\n",
       "      <td>42.0049</td>\n",
       "      <td>0.8400</td>\n",
       "      <td>100.0</td>\n",
       "      <td>445.00</td>\n",
       "      <td>549.68</td>\n",
       "      <td>1343.43</td>\n",
       "      <td>1112.93</td>\n",
       "      <td>...</td>\n",
       "      <td>2387.99</td>\n",
       "      <td>8074.83</td>\n",
       "      <td>9.3335</td>\n",
       "      <td>0.02</td>\n",
       "      <td>330</td>\n",
       "      <td>2212</td>\n",
       "      <td>100.00</td>\n",
       "      <td>10.62</td>\n",
       "      <td>6.3670</td>\n",
       "      <td>320</td>\n",
       "    </tr>\n",
       "    <tr>\n",
       "      <th>1</th>\n",
       "      <td>train_FD004</td>\n",
       "      <td>1</td>\n",
       "      <td>2</td>\n",
       "      <td>20.0020</td>\n",
       "      <td>0.7002</td>\n",
       "      <td>100.0</td>\n",
       "      <td>491.19</td>\n",
       "      <td>606.07</td>\n",
       "      <td>1477.61</td>\n",
       "      <td>1237.50</td>\n",
       "      <td>...</td>\n",
       "      <td>2387.73</td>\n",
       "      <td>8046.13</td>\n",
       "      <td>9.1913</td>\n",
       "      <td>0.02</td>\n",
       "      <td>361</td>\n",
       "      <td>2324</td>\n",
       "      <td>100.00</td>\n",
       "      <td>24.37</td>\n",
       "      <td>14.6552</td>\n",
       "      <td>319</td>\n",
       "    </tr>\n",
       "    <tr>\n",
       "      <th>2</th>\n",
       "      <td>train_FD004</td>\n",
       "      <td>1</td>\n",
       "      <td>3</td>\n",
       "      <td>42.0038</td>\n",
       "      <td>0.8409</td>\n",
       "      <td>100.0</td>\n",
       "      <td>445.00</td>\n",
       "      <td>548.95</td>\n",
       "      <td>1343.12</td>\n",
       "      <td>1117.05</td>\n",
       "      <td>...</td>\n",
       "      <td>2387.97</td>\n",
       "      <td>8066.62</td>\n",
       "      <td>9.4007</td>\n",
       "      <td>0.02</td>\n",
       "      <td>329</td>\n",
       "      <td>2212</td>\n",
       "      <td>100.00</td>\n",
       "      <td>10.48</td>\n",
       "      <td>6.4213</td>\n",
       "      <td>318</td>\n",
       "    </tr>\n",
       "    <tr>\n",
       "      <th>3</th>\n",
       "      <td>train_FD004</td>\n",
       "      <td>1</td>\n",
       "      <td>4</td>\n",
       "      <td>42.0000</td>\n",
       "      <td>0.8400</td>\n",
       "      <td>100.0</td>\n",
       "      <td>445.00</td>\n",
       "      <td>548.70</td>\n",
       "      <td>1341.24</td>\n",
       "      <td>1118.03</td>\n",
       "      <td>...</td>\n",
       "      <td>2388.02</td>\n",
       "      <td>8076.05</td>\n",
       "      <td>9.3369</td>\n",
       "      <td>0.02</td>\n",
       "      <td>328</td>\n",
       "      <td>2212</td>\n",
       "      <td>100.00</td>\n",
       "      <td>10.54</td>\n",
       "      <td>6.4176</td>\n",
       "      <td>317</td>\n",
       "    </tr>\n",
       "    <tr>\n",
       "      <th>4</th>\n",
       "      <td>train_FD004</td>\n",
       "      <td>1</td>\n",
       "      <td>5</td>\n",
       "      <td>25.0063</td>\n",
       "      <td>0.6207</td>\n",
       "      <td>60.0</td>\n",
       "      <td>462.54</td>\n",
       "      <td>536.10</td>\n",
       "      <td>1255.23</td>\n",
       "      <td>1033.59</td>\n",
       "      <td>...</td>\n",
       "      <td>2028.08</td>\n",
       "      <td>7865.80</td>\n",
       "      <td>10.8366</td>\n",
       "      <td>0.02</td>\n",
       "      <td>305</td>\n",
       "      <td>1915</td>\n",
       "      <td>84.93</td>\n",
       "      <td>14.03</td>\n",
       "      <td>8.6754</td>\n",
       "      <td>316</td>\n",
       "    </tr>\n",
       "  </tbody>\n",
       "</table>\n",
       "<p>5 rows × 28 columns</p>\n",
       "</div>"
      ],
      "text/plain": [
       "           src  machine  cycle       p1      p2     p3      s1      s2  \\\n",
       "0  train_FD004        1      1  42.0049  0.8400  100.0  445.00  549.68   \n",
       "1  train_FD004        1      2  20.0020  0.7002  100.0  491.19  606.07   \n",
       "2  train_FD004        1      3  42.0038  0.8409  100.0  445.00  548.95   \n",
       "3  train_FD004        1      4  42.0000  0.8400  100.0  445.00  548.70   \n",
       "4  train_FD004        1      5  25.0063  0.6207   60.0  462.54  536.10   \n",
       "\n",
       "        s3       s4  ...      s13      s14      s15   s16  s17   s18     s19  \\\n",
       "0  1343.43  1112.93  ...  2387.99  8074.83   9.3335  0.02  330  2212  100.00   \n",
       "1  1477.61  1237.50  ...  2387.73  8046.13   9.1913  0.02  361  2324  100.00   \n",
       "2  1343.12  1117.05  ...  2387.97  8066.62   9.4007  0.02  329  2212  100.00   \n",
       "3  1341.24  1118.03  ...  2388.02  8076.05   9.3369  0.02  328  2212  100.00   \n",
       "4  1255.23  1033.59  ...  2028.08  7865.80  10.8366  0.02  305  1915   84.93   \n",
       "\n",
       "     s20      s21  rul  \n",
       "0  10.62   6.3670  320  \n",
       "1  24.37  14.6552  319  \n",
       "2  10.48   6.4213  318  \n",
       "3  10.54   6.4176  317  \n",
       "4  14.03   8.6754  316  \n",
       "\n",
       "[5 rows x 28 columns]"
      ]
     },
     "execution_count": 2,
     "metadata": {},
     "output_type": "execute_result"
    }
   ],
   "source": [
    "data.head()"
   ]
  },
  {
   "cell_type": "markdown",
   "metadata": {},
   "source": [
    "* There are four sub-datasets (column `src`)\n",
    "* Columns `p1-3` represent control parameters\n",
    "* Columns `s1-21` are sensor readings"
   ]
  },
  {
   "cell_type": "markdown",
   "metadata": {
    "slideshow": {
     "slide_type": "subslide"
    }
   },
   "source": [
    "## Data Loading and Preparation\n",
    "\n",
    "**We will focus on the FD004 dataset (the hardest)**"
   ]
  },
  {
   "cell_type": "code",
   "execution_count": 3,
   "metadata": {
    "slideshow": {
     "slide_type": "-"
    }
   },
   "outputs": [],
   "source": [
    "data_by_src = util.partition_by_field(data, field='src')\n",
    "dt = data_by_src['train_FD004']"
   ]
  },
  {
   "cell_type": "markdown",
   "metadata": {},
   "source": [
    "**Then we separate _two sets for training_ and one for testing**\n",
    "\n",
    "* The first trainign set will contain finished experiments (supervised)\n",
    "* ...The second will contain data for still running machines (unsupervised)"
   ]
  },
  {
   "cell_type": "code",
   "execution_count": 4,
   "metadata": {},
   "outputs": [
    {
     "name": "stdout",
     "output_type": "stream",
     "text": [
      "Num. machine: 7 (supervised), 145 (unsupervised), 97 (test)\n"
     ]
    }
   ],
   "source": [
    "trs_ratio = 0.03 # Supervised experiments / all experiments\n",
    "tru_ratio = 0.6 # Unsupervised experiments / remaining experiments\n",
    "trs, tmp = util.split_datasets_by_field(dt, field='machine', fraction=trs_ratio, seed=42)\n",
    "tru, ts = util.split_datasets_by_field(tmp, field='machine', fraction=tru_ratio, seed=42)\n",
    "\n",
    "trs_mcn, tru_mcn, ts_mcn = trs['machine'].unique(), tru['machine'].unique(), ts['machine'].unique()\n",
    "print(f'Num. machine: {len(trs_mcn)} (supervised), {len(tru_mcn)} (unsupervised), {len(ts_mcn)} (test)')"
   ]
  },
  {
   "cell_type": "markdown",
   "metadata": {
    "slideshow": {
     "slide_type": "subslide"
    }
   },
   "source": [
    "## Data Loading and Preparation\n",
    "\n",
    "**Then we standardize the input data**"
   ]
  },
  {
   "cell_type": "code",
   "execution_count": 5,
   "metadata": {},
   "outputs": [
    {
     "data": {
      "text/html": [
       "<div>\n",
       "<style scoped>\n",
       "    .dataframe tbody tr th:only-of-type {\n",
       "        vertical-align: middle;\n",
       "    }\n",
       "\n",
       "    .dataframe tbody tr th {\n",
       "        vertical-align: top;\n",
       "    }\n",
       "\n",
       "    .dataframe thead th {\n",
       "        text-align: right;\n",
       "    }\n",
       "</style>\n",
       "<table border=\"1\" class=\"dataframe\">\n",
       "  <thead>\n",
       "    <tr style=\"text-align: right;\">\n",
       "      <th></th>\n",
       "      <th>src</th>\n",
       "      <th>machine</th>\n",
       "      <th>cycle</th>\n",
       "      <th>p1</th>\n",
       "      <th>p2</th>\n",
       "      <th>p3</th>\n",
       "      <th>s1</th>\n",
       "      <th>s2</th>\n",
       "      <th>s3</th>\n",
       "      <th>s4</th>\n",
       "      <th>...</th>\n",
       "      <th>s13</th>\n",
       "      <th>s14</th>\n",
       "      <th>s15</th>\n",
       "      <th>s16</th>\n",
       "      <th>s17</th>\n",
       "      <th>s18</th>\n",
       "      <th>s19</th>\n",
       "      <th>s20</th>\n",
       "      <th>s21</th>\n",
       "      <th>rul</th>\n",
       "    </tr>\n",
       "  </thead>\n",
       "  <tbody>\n",
       "    <tr>\n",
       "      <th>1725</th>\n",
       "      <td>train_FD004</td>\n",
       "      <td>7</td>\n",
       "      <td>1</td>\n",
       "      <td>-1.688818</td>\n",
       "      <td>-1.924463</td>\n",
       "      <td>0.445653</td>\n",
       "      <td>1.811019</td>\n",
       "      <td>1.784571</td>\n",
       "      <td>1.676983</td>\n",
       "      <td>1.834240</td>\n",
       "      <td>...</td>\n",
       "      <td>0.445850</td>\n",
       "      <td>0.741155</td>\n",
       "      <td>-1.182014</td>\n",
       "      <td>1.456084</td>\n",
       "      <td>1.710890</td>\n",
       "      <td>1.126932</td>\n",
       "      <td>0.445653</td>\n",
       "      <td>1.912053</td>\n",
       "      <td>1.883875</td>\n",
       "      <td>0.901639</td>\n",
       "    </tr>\n",
       "    <tr>\n",
       "      <th>1726</th>\n",
       "      <td>train_FD004</td>\n",
       "      <td>7</td>\n",
       "      <td>2</td>\n",
       "      <td>-0.320795</td>\n",
       "      <td>0.385443</td>\n",
       "      <td>0.445653</td>\n",
       "      <td>0.754416</td>\n",
       "      <td>0.824865</td>\n",
       "      <td>0.604660</td>\n",
       "      <td>0.459056</td>\n",
       "      <td>...</td>\n",
       "      <td>0.445776</td>\n",
       "      <td>-0.158233</td>\n",
       "      <td>-0.209914</td>\n",
       "      <td>-0.686773</td>\n",
       "      <td>0.662255</td>\n",
       "      <td>0.697974</td>\n",
       "      <td>0.445653</td>\n",
       "      <td>0.422743</td>\n",
       "      <td>0.432957</td>\n",
       "      <td>0.897541</td>\n",
       "    </tr>\n",
       "    <tr>\n",
       "      <th>1727</th>\n",
       "      <td>train_FD004</td>\n",
       "      <td>7</td>\n",
       "      <td>3</td>\n",
       "      <td>-1.688920</td>\n",
       "      <td>-1.925123</td>\n",
       "      <td>0.445653</td>\n",
       "      <td>1.811019</td>\n",
       "      <td>1.768351</td>\n",
       "      <td>1.668955</td>\n",
       "      <td>1.823341</td>\n",
       "      <td>...</td>\n",
       "      <td>0.445477</td>\n",
       "      <td>0.684593</td>\n",
       "      <td>-1.247749</td>\n",
       "      <td>1.456084</td>\n",
       "      <td>1.747049</td>\n",
       "      <td>1.126932</td>\n",
       "      <td>0.445653</td>\n",
       "      <td>1.912053</td>\n",
       "      <td>1.891484</td>\n",
       "      <td>0.893443</td>\n",
       "    </tr>\n",
       "    <tr>\n",
       "      <th>1728</th>\n",
       "      <td>train_FD004</td>\n",
       "      <td>7</td>\n",
       "      <td>4</td>\n",
       "      <td>1.184267</td>\n",
       "      <td>0.844852</td>\n",
       "      <td>0.445653</td>\n",
       "      <td>-1.021583</td>\n",
       "      <td>-0.742836</td>\n",
       "      <td>-0.576936</td>\n",
       "      <td>-0.541685</td>\n",
       "      <td>...</td>\n",
       "      <td>0.443309</td>\n",
       "      <td>0.078654</td>\n",
       "      <td>0.017101</td>\n",
       "      <td>-0.686773</td>\n",
       "      <td>-0.531018</td>\n",
       "      <td>-0.052704</td>\n",
       "      <td>0.445653</td>\n",
       "      <td>-0.987588</td>\n",
       "      <td>-0.988312</td>\n",
       "      <td>0.889344</td>\n",
       "    </tr>\n",
       "    <tr>\n",
       "      <th>1729</th>\n",
       "      <td>train_FD004</td>\n",
       "      <td>7</td>\n",
       "      <td>5</td>\n",
       "      <td>-1.688948</td>\n",
       "      <td>-1.925453</td>\n",
       "      <td>0.445653</td>\n",
       "      <td>1.811019</td>\n",
       "      <td>1.767810</td>\n",
       "      <td>1.726472</td>\n",
       "      <td>1.761244</td>\n",
       "      <td>...</td>\n",
       "      <td>0.445402</td>\n",
       "      <td>0.677537</td>\n",
       "      <td>-1.249832</td>\n",
       "      <td>1.456084</td>\n",
       "      <td>1.710890</td>\n",
       "      <td>1.126932</td>\n",
       "      <td>0.445653</td>\n",
       "      <td>1.908976</td>\n",
       "      <td>1.922090</td>\n",
       "      <td>0.885246</td>\n",
       "    </tr>\n",
       "  </tbody>\n",
       "</table>\n",
       "<p>5 rows × 28 columns</p>\n",
       "</div>"
      ],
      "text/plain": [
       "              src  machine  cycle        p1        p2        p3        s1  \\\n",
       "1725  train_FD004        7      1 -1.688818 -1.924463  0.445653  1.811019   \n",
       "1726  train_FD004        7      2 -0.320795  0.385443  0.445653  0.754416   \n",
       "1727  train_FD004        7      3 -1.688920 -1.925123  0.445653  1.811019   \n",
       "1728  train_FD004        7      4  1.184267  0.844852  0.445653 -1.021583   \n",
       "1729  train_FD004        7      5 -1.688948 -1.925453  0.445653  1.811019   \n",
       "\n",
       "            s2        s3        s4  ...       s13       s14       s15  \\\n",
       "1725  1.784571  1.676983  1.834240  ...  0.445850  0.741155 -1.182014   \n",
       "1726  0.824865  0.604660  0.459056  ...  0.445776 -0.158233 -0.209914   \n",
       "1727  1.768351  1.668955  1.823341  ...  0.445477  0.684593 -1.247749   \n",
       "1728 -0.742836 -0.576936 -0.541685  ...  0.443309  0.078654  0.017101   \n",
       "1729  1.767810  1.726472  1.761244  ...  0.445402  0.677537 -1.249832   \n",
       "\n",
       "           s16       s17       s18       s19       s20       s21       rul  \n",
       "1725  1.456084  1.710890  1.126932  0.445653  1.912053  1.883875  0.901639  \n",
       "1726 -0.686773  0.662255  0.697974  0.445653  0.422743  0.432957  0.897541  \n",
       "1727  1.456084  1.747049  1.126932  0.445653  1.912053  1.891484  0.893443  \n",
       "1728 -0.686773 -0.531018 -0.052704  0.445653 -0.987588 -0.988312  0.889344  \n",
       "1729  1.456084  1.710890  1.126932  0.445653  1.908976  1.922090  0.885246  \n",
       "\n",
       "[5 rows x 28 columns]"
      ]
     },
     "metadata": {},
     "output_type": "display_data"
    }
   ],
   "source": [
    "sscaler, nscaler = StandardScaler(), MinMaxScaler()\n",
    "trs_s, tru_s, ts_s = trs.copy(), tru.copy(), ts.copy()\n",
    "trs_s[dt_in] = sscaler.fit_transform(trs[dt_in])\n",
    "tru_s[dt_in], ts_s[dt_in] = sscaler.transform(tru[dt_in]), sscaler.transform(ts[dt_in])\n",
    "trs_s[['rul']] = nscaler.fit_transform(trs[['rul']])\n",
    "tru_s[['rul']], ts_s[['rul']] = nscaler.transform(tru[['rul']]), nscaler.transform(ts[['rul']])\n",
    "\n",
    "maxrul = nscaler.data_max_[0]\n",
    "display(trs_s.head())"
   ]
  },
  {
   "cell_type": "markdown",
   "metadata": {},
   "source": [
    "Later, we will need the maximum RUL value on the training set"
   ]
  },
  {
   "cell_type": "markdown",
   "metadata": {
    "slideshow": {
     "slide_type": "subslide"
    }
   },
   "source": [
    "## Removing RUL Values\n",
    "\n",
    "**Next, we simulate the lack of RUL values on the unsupervised data**\n",
    "\n",
    "* We copy the unsupervised data and _remove number of their last entries_\n",
    "* Then, _we replace RUL values_ with -1 (invalid)\n",
    "* Finally, we merge supervised and unsupervised data in a single dataset"
   ]
  },
  {
   "cell_type": "code",
   "execution_count": 12,
   "metadata": {},
   "outputs": [
    {
     "data": {
      "text/html": [
       "<div>\n",
       "<style scoped>\n",
       "    .dataframe tbody tr th:only-of-type {\n",
       "        vertical-align: middle;\n",
       "    }\n",
       "\n",
       "    .dataframe tbody tr th {\n",
       "        vertical-align: top;\n",
       "    }\n",
       "\n",
       "    .dataframe thead th {\n",
       "        text-align: right;\n",
       "    }\n",
       "</style>\n",
       "<table border=\"1\" class=\"dataframe\">\n",
       "  <thead>\n",
       "    <tr style=\"text-align: right;\">\n",
       "      <th></th>\n",
       "      <th>src</th>\n",
       "      <th>machine</th>\n",
       "      <th>cycle</th>\n",
       "      <th>p1</th>\n",
       "      <th>p2</th>\n",
       "      <th>p3</th>\n",
       "      <th>s1</th>\n",
       "      <th>s2</th>\n",
       "      <th>s3</th>\n",
       "      <th>s4</th>\n",
       "      <th>...</th>\n",
       "      <th>s13</th>\n",
       "      <th>s14</th>\n",
       "      <th>s15</th>\n",
       "      <th>s16</th>\n",
       "      <th>s17</th>\n",
       "      <th>s18</th>\n",
       "      <th>s19</th>\n",
       "      <th>s20</th>\n",
       "      <th>s21</th>\n",
       "      <th>rul</th>\n",
       "    </tr>\n",
       "  </thead>\n",
       "  <tbody>\n",
       "    <tr>\n",
       "      <th>1725</th>\n",
       "      <td>train_FD004</td>\n",
       "      <td>7</td>\n",
       "      <td>1</td>\n",
       "      <td>-1.688818</td>\n",
       "      <td>-1.924463</td>\n",
       "      <td>0.445653</td>\n",
       "      <td>1.811019</td>\n",
       "      <td>1.784571</td>\n",
       "      <td>1.676983</td>\n",
       "      <td>1.834240</td>\n",
       "      <td>...</td>\n",
       "      <td>0.445850</td>\n",
       "      <td>0.741155</td>\n",
       "      <td>-1.182014</td>\n",
       "      <td>1.456084</td>\n",
       "      <td>1.710890</td>\n",
       "      <td>1.126932</td>\n",
       "      <td>0.445653</td>\n",
       "      <td>1.912053</td>\n",
       "      <td>1.883875</td>\n",
       "      <td>0.901639</td>\n",
       "    </tr>\n",
       "    <tr>\n",
       "      <th>1726</th>\n",
       "      <td>train_FD004</td>\n",
       "      <td>7</td>\n",
       "      <td>2</td>\n",
       "      <td>-0.320795</td>\n",
       "      <td>0.385443</td>\n",
       "      <td>0.445653</td>\n",
       "      <td>0.754416</td>\n",
       "      <td>0.824865</td>\n",
       "      <td>0.604660</td>\n",
       "      <td>0.459056</td>\n",
       "      <td>...</td>\n",
       "      <td>0.445776</td>\n",
       "      <td>-0.158233</td>\n",
       "      <td>-0.209914</td>\n",
       "      <td>-0.686773</td>\n",
       "      <td>0.662255</td>\n",
       "      <td>0.697974</td>\n",
       "      <td>0.445653</td>\n",
       "      <td>0.422743</td>\n",
       "      <td>0.432957</td>\n",
       "      <td>0.897541</td>\n",
       "    </tr>\n",
       "    <tr>\n",
       "      <th>1727</th>\n",
       "      <td>train_FD004</td>\n",
       "      <td>7</td>\n",
       "      <td>3</td>\n",
       "      <td>-1.688920</td>\n",
       "      <td>-1.925123</td>\n",
       "      <td>0.445653</td>\n",
       "      <td>1.811019</td>\n",
       "      <td>1.768351</td>\n",
       "      <td>1.668955</td>\n",
       "      <td>1.823341</td>\n",
       "      <td>...</td>\n",
       "      <td>0.445477</td>\n",
       "      <td>0.684593</td>\n",
       "      <td>-1.247749</td>\n",
       "      <td>1.456084</td>\n",
       "      <td>1.747049</td>\n",
       "      <td>1.126932</td>\n",
       "      <td>0.445653</td>\n",
       "      <td>1.912053</td>\n",
       "      <td>1.891484</td>\n",
       "      <td>0.893443</td>\n",
       "    </tr>\n",
       "    <tr>\n",
       "      <th>1728</th>\n",
       "      <td>train_FD004</td>\n",
       "      <td>7</td>\n",
       "      <td>4</td>\n",
       "      <td>1.184267</td>\n",
       "      <td>0.844852</td>\n",
       "      <td>0.445653</td>\n",
       "      <td>-1.021583</td>\n",
       "      <td>-0.742836</td>\n",
       "      <td>-0.576936</td>\n",
       "      <td>-0.541685</td>\n",
       "      <td>...</td>\n",
       "      <td>0.443309</td>\n",
       "      <td>0.078654</td>\n",
       "      <td>0.017101</td>\n",
       "      <td>-0.686773</td>\n",
       "      <td>-0.531018</td>\n",
       "      <td>-0.052704</td>\n",
       "      <td>0.445653</td>\n",
       "      <td>-0.987588</td>\n",
       "      <td>-0.988312</td>\n",
       "      <td>0.889344</td>\n",
       "    </tr>\n",
       "    <tr>\n",
       "      <th>1729</th>\n",
       "      <td>train_FD004</td>\n",
       "      <td>7</td>\n",
       "      <td>5</td>\n",
       "      <td>-1.688948</td>\n",
       "      <td>-1.925453</td>\n",
       "      <td>0.445653</td>\n",
       "      <td>1.811019</td>\n",
       "      <td>1.767810</td>\n",
       "      <td>1.726472</td>\n",
       "      <td>1.761244</td>\n",
       "      <td>...</td>\n",
       "      <td>0.445402</td>\n",
       "      <td>0.677537</td>\n",
       "      <td>-1.249832</td>\n",
       "      <td>1.456084</td>\n",
       "      <td>1.710890</td>\n",
       "      <td>1.126932</td>\n",
       "      <td>0.445653</td>\n",
       "      <td>1.908976</td>\n",
       "      <td>1.922090</td>\n",
       "      <td>0.885246</td>\n",
       "    </tr>\n",
       "  </tbody>\n",
       "</table>\n",
       "<p>5 rows × 28 columns</p>\n",
       "</div>"
      ],
      "text/plain": [
       "              src  machine  cycle        p1        p2        p3        s1  \\\n",
       "1725  train_FD004        7      1 -1.688818 -1.924463  0.445653  1.811019   \n",
       "1726  train_FD004        7      2 -0.320795  0.385443  0.445653  0.754416   \n",
       "1727  train_FD004        7      3 -1.688920 -1.925123  0.445653  1.811019   \n",
       "1728  train_FD004        7      4  1.184267  0.844852  0.445653 -1.021583   \n",
       "1729  train_FD004        7      5 -1.688948 -1.925453  0.445653  1.811019   \n",
       "\n",
       "            s2        s3        s4  ...       s13       s14       s15  \\\n",
       "1725  1.784571  1.676983  1.834240  ...  0.445850  0.741155 -1.182014   \n",
       "1726  0.824865  0.604660  0.459056  ...  0.445776 -0.158233 -0.209914   \n",
       "1727  1.768351  1.668955  1.823341  ...  0.445477  0.684593 -1.247749   \n",
       "1728 -0.742836 -0.576936 -0.541685  ...  0.443309  0.078654  0.017101   \n",
       "1729  1.767810  1.726472  1.761244  ...  0.445402  0.677537 -1.249832   \n",
       "\n",
       "           s16       s17       s18       s19       s20       s21       rul  \n",
       "1725  1.456084  1.710890  1.126932  0.445653  1.912053  1.883875  0.901639  \n",
       "1726 -0.686773  0.662255  0.697974  0.445653  0.422743  0.432957  0.897541  \n",
       "1727  1.456084  1.747049  1.126932  0.445653  1.912053  1.891484  0.893443  \n",
       "1728 -0.686773 -0.531018 -0.052704  0.445653 -0.987588 -0.988312  0.889344  \n",
       "1729  1.456084  1.710890  1.126932  0.445653  1.908976  1.922090  0.885246  \n",
       "\n",
       "[5 rows x 28 columns]"
      ]
     },
     "execution_count": 12,
     "metadata": {},
     "output_type": "execute_result"
    }
   ],
   "source": [
    "tru_s2 = util.rul_cutoff_and_removal(tru_s, cutoff_min=20, cutoff_max=60, seed=42)\n",
    "tr_s2 = pd.concat((trs_s, tru_s2))\n",
    "tr_s2.head()"
   ]
  },
  {
   "cell_type": "markdown",
   "metadata": {
    "slideshow": {
     "slide_type": "subslide"
    }
   },
   "source": [
    "## MLP with Scarce Labels\n",
    "\n",
    "**As a baseline, we will train a MLP model _on the supervised data_**\n",
    "\n",
    "We do not split a validation set, given we have scarce data"
   ]
  },
  {
   "cell_type": "code",
   "execution_count": 6,
   "metadata": {
    "scrolled": false
   },
   "outputs": [
    {
     "data": {
      "image/png": "[encoded data removed]",
      "text/plain": [
       "<Figure size 1400x450 with 1 Axes>"
      ]
     },
     "metadata": {},
     "output_type": "display_data"
    },
    {
     "name": "stdout",
     "output_type": "stream",
     "text": [
      "Model loss: 0.0199 (training)\n"
     ]
    }
   ],
   "source": [
    "nn = util.build_ml_model(input_size=len(dt_in), output_size=1, hidden=[32, 32])\n",
    "history = util.train_ml_model(nn, trs_s[dt_in], trs_s['rul'], validation_split=0., epochs=60)\n",
    "util.plot_training_history(history, figsize=figsize)"
   ]
  },
  {
   "cell_type": "markdown",
   "metadata": {
    "slideshow": {
     "slide_type": "subslide"
    }
   },
   "source": [
    "## Evaluation\n",
    "\n",
    "**Let's have a look at the predictions**"
   ]
  },
  {
   "cell_type": "code",
   "execution_count": 13,
   "metadata": {
    "scrolled": true
   },
   "outputs": [
    {
     "data": {
      "image/png": "[encoded data removed]",
      "text/plain": [
       "<Figure size 1400x450 with 2 Axes>"
      ]
     },
     "metadata": {},
     "output_type": "display_data"
    }
   ],
   "source": [
    "stop = 1400\n",
    "ts_pred = nn.predict(ts_s[dt_in], verbose=0).ravel() * maxrul\n",
    "util.plot_rul(ts_pred[:stop], ts['rul'].iloc[:stop], same_scale=False, figsize=figsize)"
   ]
  },
  {
   "cell_type": "markdown",
   "metadata": {},
   "source": [
    "* The predictions have a decreasing trend (which is good)\n",
    "* ...But they are _very noisy_ (which is bad)"
   ]
  },
  {
   "cell_type": "markdown",
   "metadata": {
    "slideshow": {
     "slide_type": "subslide"
    }
   },
   "source": [
    "## Cost Model\n",
    "\n",
    "**The RUL estimator is meant to be used to define a policy**\n",
    "\n",
    "Namely, we stop operations when:\n",
    "$$\n",
    "f(x; \\theta) \\leq \\varepsilon\n",
    "$$\n",
    "* Where $f(x; \\theta)$ is the estimated output and $\\varepsilon$ is threshold\n",
    "\n",
    "**Calibrating $\\varepsilon$ is best done by relying on a cost model**\n",
    "\n",
    "* We assume that operating for a time step generates 1 unit of profit\n",
    "* ...And that failing looses $C$ units of profits w.r.t. performing maintenance\n",
    "* We also assume we never stop a machine before a \"safe\" interval $s$\n",
    "\n",
    "Both $C$ and $s$ are calibrated on data in our example:"
   ]
  },
  {
   "cell_type": "code",
   "execution_count": 14,
   "metadata": {},
   "outputs": [],
   "source": [
    "failtimes = dt.groupby('machine')['cycle'].max() \n",
    "safe_interval, maintenance_cost = failtimes.min(), failtimes.max()"
   ]
  },
  {
   "cell_type": "markdown",
   "metadata": {
    "slideshow": {
     "slide_type": "subslide"
    }
   },
   "source": [
    "## Cost Model and Threshold Optimization\n",
    "\n",
    "**We then proceed to choose $\\varepsilon$ to optimize the cost**"
   ]
  },
  {
   "cell_type": "code",
   "execution_count": 15,
   "metadata": {},
   "outputs": [
    {
     "name": "stdout",
     "output_type": "stream",
     "text": [
      "Optimal threshold for the training set: 8.08\n"
     ]
    },
    {
     "data": {
      "image/png": "[encoded data removed]",
      "text/plain": [
       "<Figure size 1400x450 with 1 Axes>"
      ]
     },
     "metadata": {},
     "output_type": "display_data"
    }
   ],
   "source": [
    "trs_pred = nn.predict(trs_s[dt_in], verbose=0).ravel() * maxrul\n",
    "cmodel = util.RULCostModel(maintenance_cost=maintenance_cost, safe_interval=safe_interval)\n",
    "th_range = np.linspace(-30, 100, 100)\n",
    "trs_thr = util.optimize_threshold(trs_s['machine'].values, trs_pred, th_range, cmodel, plot=True, figsize=figsize)\n",
    "print(f'Optimal threshold for the training set: {trs_thr:.2f}')"
   ]
  },
  {
   "cell_type": "markdown",
   "metadata": {
    "slideshow": {
     "slide_type": "subslide"
    }
   },
   "source": [
    "## Cost Results\n",
    "\n",
    "**Let's now check the costs on all datasets**"
   ]
  },
  {
   "cell_type": "code",
   "execution_count": 16,
   "metadata": {
    "scrolled": false
   },
   "outputs": [
    {
     "name": "stdout",
     "output_type": "stream",
     "text": [
      "Avg. cost: -52.43 (supervised), 194.00 (test)\n"
     ]
    }
   ],
   "source": [
    "trs_c, trs_f, trs_sl = cmodel.cost(trs_s['machine'].values, trs_pred, trs_thr, return_margin=True)\n",
    "ts_c, ts_f, ts_sl = cmodel.cost(ts['machine'].values, ts_pred, trs_thr, return_margin=True)\n",
    "print(f'Avg. cost: {trs_c/len(trs_mcn):.2f} (supervised), {ts_c/len(ts_mcn):.2f} (test)')"
   ]
  },
  {
   "cell_type": "markdown",
   "metadata": {},
   "source": [
    "* The cost for the training set is good (negative)\n",
    "* ...But that is not the case for the training set"
   ]
  },
  {
   "cell_type": "code",
   "execution_count": 17,
   "metadata": {},
   "outputs": [
    {
     "name": "stdout",
     "output_type": "stream",
     "text": [
      "Avg. fails: 0.00 (supervised), 0.43 (test)\n",
      "Avg. slack: 16.57 (supervised), 8.40 (test)\n"
     ]
    }
   ],
   "source": [
    "trs_nm, tru_nm, ts_nm = len(trs_mcn), len(tru_mcn), len(ts_mcn)\n",
    "print(f'Avg. fails: {trs_f/trs_nm:.2f} (supervised), {ts_f/ts_nm:.2f} (test)')\n",
    "print(f'Avg. slack: {trs_sl/trs_nm:.2f} (supervised), {ts_sl/len(ts_mcn):.2f} (test)')"
   ]
  },
  {
   "cell_type": "markdown",
   "metadata": {},
   "source": [
    "* In particular, there is a _very high failure rate on unseen data_"
   ]
  },
  {
   "cell_type": "markdown",
   "metadata": {
    "slideshow": {
     "slide_type": "subslide"
    }
   },
   "source": [
    "<div class=big>\n",
    "<small>Ok, now we are supposed to inject knowledge in ML</small><br>\n",
    "So, what do we know?\n",
    "</div>"
   ]
  },
  {
   "cell_type": "markdown",
   "metadata": {
    "slideshow": {
     "slide_type": "subslide"
    }
   },
   "source": [
    "## From Domain Knowledge...\n",
    "\n",
    "**We know that the RUL _decreases at a fixed rate_**\n",
    "\n",
    "* After 1 time step, the RUL will have decreased by 1 unit\n",
    "* After 2 time steps, the RUL will have decreased by 2 units and so on"
   ]
  },
  {
   "cell_type": "markdown",
   "metadata": {},
   "source": [
    "**In general, let's consider pairs of examples $(x_i, y_i)$ and $(x_j, y_j)$**\n",
    "\n",
    "Then we know that:\n",
    "\n",
    "$$\\begin{align}\n",
    "& y_i - y_j = j - i & \\forall i, j = 1..m \\ \\text{ with: } c_i = c_j\n",
    "\\end{align}$$\n",
    "\n",
    "* $c_i, c_j$ are the machine for the two samples\n",
    "* The left-most terms is the difference between the RULs\n",
    "* $j -i$ is the difference between the sequential indexes of the two samples\n",
    "* ...Which by construction should be equal to the RUL difference"
   ]
  },
  {
   "cell_type": "markdown",
   "metadata": {
    "slideshow": {
     "slide_type": "subslide"
    }
   },
   "source": [
    "## ...To Constraints\n",
    "\n",
    "**We can use the mentioned observation to define a constraint**\n",
    "\n",
    "We just need to swap the actual RUL values for the model predictions:\n",
    "\n",
    "$$\\begin{align}\n",
    "& f(x_i; \\theta) - f(x_j; \\theta) \\simeq j - i & \\forall i, j = 1..m \\ \\text{ with: } c_i = c_j\n",
    "\\end{align}$$\n",
    "\n",
    "* Since the predictions are subject to errors\n",
    "* ...It's best to enforce _approximate_ equality\n",
    "\n",
    "In practice, what we have is a set of _soft constraint_\n",
    "\n",
    "**Moreover, our constraints are _relational_**\n",
    "\n",
    "...Meaning that each relation involves multiple examples"
   ]
  },
  {
   "cell_type": "markdown",
   "metadata": {},
   "source": [
    "> **Now that we know which property we want to enforce, how do we achieve it?**"
   ]
  }
 ],
 "metadata": {
  "celltoolbar": "Slideshow",
  "kernelspec": {
   "display_name": "Python 3 (ipykernel)",
   "language": "python",
   "name": "python3"
  },
  "language_info": {
   "codemirror_mode": {
    "name": "ipython",
    "version": 3
   },
   "file_extension": ".py",
   "mimetype": "text/x-python",
   "name": "python",
   "nbconvert_exporter": "python",
   "pygments_lexer": "ipython3",
   "version": "3.11.8"
  },
  "rise": {
   "center": false,
   "transition": "fade"
  }
 },
 "nbformat": 4,
 "nbformat_minor": 4
}
