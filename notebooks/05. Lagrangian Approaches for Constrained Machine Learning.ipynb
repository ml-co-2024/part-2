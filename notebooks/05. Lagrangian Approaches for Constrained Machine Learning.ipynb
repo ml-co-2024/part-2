{
 "cells": [
  {
   "cell_type": "code",
   "execution_count": 4,
   "metadata": {
    "slideshow": {
     "slide_type": "skip"
    }
   },
   "outputs": [
    {
     "name": "stdout",
     "output_type": "stream",
     "text": [
      "The autoreload extension is already loaded. To reload it, use:\n",
      "  %reload_ext autoreload\n"
     ]
    }
   ],
   "source": [
    "# ============================================================\n",
    "# Notebook setup\n",
    "# ============================================================\n",
    "\n",
    "%load_ext autoreload\n",
    "%autoreload 2\n",
    "\n",
    "# Control figure size\n",
    "figsize=(14, 5)\n",
    "\n",
    "from util import util\n",
    "import numpy as np\n",
    "from sklearn.preprocessing import MinMaxScaler, StandardScaler\n",
    "import pandas as pd\n",
    "from sklearn.metrics import r2_score\n",
    "import os\n",
    "\n",
    "# Load data\n",
    "data_folder = os.path.join('..', 'data')\n",
    "\n",
    "data = util.load_communities_data(data_folder)\n",
    "attributes = data.columns[3:-1]\n",
    "target = data.columns[-1]\n",
    "\n",
    "tr_frac = 0.8 # 80% data for training\n",
    "tr_sep = int(len(data) * tr_frac)\n",
    "nf = [a for a in attributes if a != 'race'] + [target]\n",
    "\n",
    "tmp = data.iloc[:tr_sep]\n",
    "scale = tmp[nf].max()\n",
    "sdata = data.copy()\n",
    "sdata[nf] /= scale[nf]\n",
    "\n",
    "sdata[attributes] = sdata[attributes].astype(np.float32)\n",
    "sdata[target] = sdata[target].astype(np.float32)\n",
    "\n",
    "tr = sdata.iloc[:tr_sep]\n",
    "ts = sdata.iloc[tr_sep:]\n",
    "\n",
    "protected = {'race': (0, 1)}"
   ]
  },
  {
   "cell_type": "markdown",
   "metadata": {
    "slideshow": {
     "slide_type": "slide"
    }
   },
   "source": [
    "# Lagrangian Approaches for Constrained ML\n",
    "\n",
    "There's Lagrangian and Lagrangian"
   ]
  },
  {
   "cell_type": "markdown",
   "metadata": {
    "slideshow": {
     "slide_type": "subslide"
    }
   },
   "source": [
    "## Constrained Machine Learning\n",
    "\n",
    "**We have some constraints, in the general form:**\n",
    "\n",
    "$$\n",
    "g[\\hat{Y}] \\leq 0 \\quad \\text{ with: } \\hat{Y} = f(X; \\theta), x \\sim P(X)\n",
    "$$\n",
    "\n",
    "* The model input $X$ is represented as a _random variable_ with distribution $P(X)$\n",
    "* The output $\\hat{Y}$ is a _deterministic function_ of the input $X$\n",
    "* $g[\\cdot]$ represents a (possibly vector) function defined _over the distribution_ of $\\hat{Y}$"
   ]
  },
  {
   "cell_type": "markdown",
   "metadata": {
    "slideshow": {
     "slide_type": "fragment"
    }
   },
   "source": [
    "**The formulation above is very general, but also challenging to deal with**\n",
    "\n",
    "For this reason, we often take a _Monte Carlo approximation_:\n",
    "\n",
    "$$\n",
    "g(\\hat{y}) \\leq 0 \\quad \\text{ with: } \\hat{y} = f(x; \\theta) \\text{ for a sample: } \\{x_i\\}_{i=1}^m\n",
    "$$\n",
    "\n",
    "* Under this assumption, $g$ becomes a regular function"
   ]
  },
  {
   "cell_type": "markdown",
   "metadata": {
    "slideshow": {
     "slide_type": "subslide"
    }
   },
   "source": [
    "## Constrained Training Process\n",
    "\n",
    "**Our goal is training a model that satisfies the constraints**\n",
    "\n",
    "We can frame the problem as:\n",
    "\n",
    "$$\n",
    "\\mathop{\\rm argmin}_{\\theta}\\{L(\\hat{y}) \\mid \\hat{y} = f(x; \\theta), g(\\hat{y}) \\leq 0\\}\n",
    "$$\n",
    "\n",
    "* As a main trick, we use the training data to for the loss function\n",
    "* ...But also to approximate the constraint function"
   ]
  },
  {
   "cell_type": "markdown",
   "metadata": {
    "slideshow": {
     "slide_type": "fragment"
    }
   },
   "source": [
    "**The basic ingredients are the same as in knowledge injection**\n",
    "\n",
    "* However, in knowledge injection the constraints are meant to improve accuracy\n",
    "* Here, feasibility is _more important_ than being accurate\n",
    "\n",
    "During the evaluation, feasibility and accuracy should be _checked separately_"
   ]
  },
  {
   "cell_type": "markdown",
   "metadata": {
    "slideshow": {
     "slide_type": "subslide"
    }
   },
   "source": [
    "## Constrained Training Process\n",
    "\n",
    "**Our goal is training a model that satisfies the constraints**\n",
    "\n",
    "We can frame the problem as:\n",
    "\n",
    "$$\n",
    "\\mathop{\\rm argmin}_{\\theta}\\{L(\\hat{y}) \\mid \\hat{y} = f(x; \\theta), g(\\hat{y}) \\leq 0\\}\n",
    "$$\n",
    "\n",
    "* As a main trick, we use the training data to for the loss function\n",
    "* ...But also to approximate the constraint function"
   ]
  },
  {
   "cell_type": "markdown",
   "metadata": {
    "slideshow": {
     "slide_type": "-"
    }
   },
   "source": [
    "**The constraints are enforced _during the training process_**\n",
    "\n",
    "* This is not the only possible constrained ML formulation!\n",
    "* ...But it is one of the more popular ones\n",
    "\n",
    "Sometimes, it is said that the constriants are _\"distilled in the model\"_"
   ]
  },
  {
   "cell_type": "markdown",
   "metadata": {
    "slideshow": {
     "slide_type": "subslide"
    }
   },
   "source": [
    "## Constrained Training Process\n",
    "\n",
    "**Our goal is training a model that satisfies the constraints**\n",
    "\n",
    "We can frame the problem as:\n",
    "\n",
    "$$\n",
    "\\mathop{\\rm argmin}_{\\theta}\\{L(\\hat{y}) \\mid \\hat{y} = f(x; \\theta), g(\\hat{y}) \\leq 0\\}\n",
    "$$\n",
    "\n",
    "* As a main trick, we use the training data to for the loss function\n",
    "* ...But also to approximate the constraint function"
   ]
  },
  {
   "cell_type": "markdown",
   "metadata": {
    "slideshow": {
     "slide_type": "-"
    }
   },
   "source": [
    "**Handling relational constraints in this formulation is _possible_**\n",
    "\n",
    "* This is the case since we can access all training data\n",
    "* There are however _some limitations_ and/or technical difficulties\n",
    "\n",
    "We'll encouter some of these later in the lecture"
   ]
  },
  {
   "cell_type": "markdown",
   "metadata": {
    "slideshow": {
     "slide_type": "subslide"
    }
   },
   "source": [
    "## Constrained Training Process\n",
    "\n",
    "**Our goal is training a model that satisfies the constraints**\n",
    "\n",
    "We can frame the problem as:\n",
    "\n",
    "$$\n",
    "\\mathop{\\rm argmin}_{\\theta}\\{L(\\hat{y}) \\mid \\hat{y} = f(x; \\theta), g(\\hat{y}) \\leq 0\\}\n",
    "$$\n",
    "\n",
    "* As a main trick, we use the training data to for the loss function\n",
    "* ...But also to approximate the constraint function"
   ]
  },
  {
   "cell_type": "markdown",
   "metadata": {
    "slideshow": {
     "slide_type": "-"
    }
   },
   "source": [
    "**The constraints are enforced _on the training data_**\n",
    "\n",
    "* Hence, we can get _guarantees_ at best on the training data\n",
    "* The behavior on unseen examples depends on how the model generalizes\n",
    "\n",
    "So, be on the watch out for overfitting!"
   ]
  },
  {
   "cell_type": "markdown",
   "metadata": {
    "slideshow": {
     "slide_type": "subslide"
    }
   },
   "source": [
    "## Constrained Training Process\n",
    "\n",
    "**Our goal is training a model that satisfies the constraints**\n",
    "\n",
    "We can frame the problem as:\n",
    "\n",
    "$$\n",
    "\\mathop{\\rm argmin}_{\\theta}\\{L(\\hat{y}) \\mid \\hat{y} = f(x; \\theta), g(\\hat{y}) \\leq 0\\}\n",
    "$$\n",
    "\n",
    "* As a main trick, we use the training data to for the loss function\n",
    "* ...But also to approximate the constraint function"
   ]
  },
  {
   "cell_type": "markdown",
   "metadata": {
    "slideshow": {
     "slide_type": "-"
    }
   },
   "source": [
    "**Constraint satisfaction _usually_ comes with decreased accuracy**\n",
    "\n",
    "* One model might have better accuracy, but worse constraint satisfaction\n",
    "* This is especially true on unseen examples (test data)\n",
    "\n",
    "There are some (lucky) exceptions where feasibility and accuracy are correlated"
   ]
  },
  {
   "cell_type": "markdown",
   "metadata": {
    "slideshow": {
     "slide_type": "subslide"
    }
   },
   "source": [
    "## Lagrangian Approaches for Constrained ML\n",
    "\n",
    "**Lagrangian approaches can be used to tackle constraint ML**\n",
    "\n",
    "...And in fact, they are a very popular approach\n",
    "\n",
    "* This is partly due to the fact that they can work with Neural Networks\n",
    "* For this reason, they are often associated with differentiability\n",
    "* ...Even if they do not strictly require it"
   ]
  },
  {
   "cell_type": "markdown",
   "metadata": {
    "slideshow": {
     "slide_type": "fragment"
    }
   },
   "source": [
    "**The formulation is similar to the one we used for knowledge injection**\n",
    "\n",
    "We start by building a Lagrangian-like loss function:\n",
    "\n",
    "$$\n",
    "\\mathcal{L}(\\hat{y}, \\lambda)= L(\\hat{y}) + \\lambda^T h(\\max(0, g(\\hat{y})))\n",
    "$$\n",
    "\n",
    "* Where $\\max(0, g(\\hat{y}))$ is the level of constraint violation\n",
    "* $h$ is a penalizer, which might not be always necessary\n",
    "* $\\lambda \\geq 0$ is vector of weights"
   ]
  },
  {
   "cell_type": "markdown",
   "metadata": {
    "slideshow": {
     "slide_type": "subslide"
    }
   },
   "source": [
    "## Lagrangian Approaches for Constrained ML\n",
    "\n",
    "**Lagrangian approaches can be used to tackle constraint ML**\n",
    "\n",
    "...And in fact, they are a very popular approach\n",
    "\n",
    "* This is partly due to the fact that they can work with Neural Networks\n",
    "* For this reason, they are often associated with differentiability\n",
    "* ...Even if they do not strictly require it"
   ]
  },
  {
   "cell_type": "markdown",
   "metadata": {
    "slideshow": {
     "slide_type": "fragment"
    }
   },
   "source": [
    "**The formulation is similar to the one we used for knowledge injection**\n",
    "\n",
    "We start by building a Lagrangian-like loss function:\n",
    "\n",
    "$$\n",
    "\\mathcal{L}(\\hat{y}, \\lambda)= L(\\hat{y}) + \\lambda^T h(\\max(0, g(\\hat{y})))\n",
    "$$\n",
    "\n",
    "* Where $\\max(0, g(\\hat{y}))$ is the level of constraint violation\n",
    "* $h$ is a (monotone) penalizer function\n",
    "* $\\lambda \\geq 0$ is vector of weights"
   ]
  },
  {
   "cell_type": "markdown",
   "metadata": {
    "slideshow": {
     "slide_type": "subslide"
    }
   },
   "source": [
    "## Lagrangian Lower Bound\n",
    "\n",
    "**Under robust assumptions, these approaches have a nice property**\n",
    "\n",
    "For any $\\lambda \\geq 0$, we have that:\n",
    "\n",
    "$$\n",
    "\\min_{\\hat{y}} L(\\hat{y}) + \\lambda^T h(\\max(0, g(\\hat{y})))\n",
    "\\leq \\min_{\\hat{y}} \\{ L(\\hat{y}) \\mid g(\\hat{y}) \\leq 0 \\}\n",
    "$$\n",
    "\n",
    "* The minimum of the Lagrangian function\n",
    "* ...Is always a _lower bound_ for the loss of the constrained problem"
   ]
  },
  {
   "cell_type": "markdown",
   "metadata": {},
   "source": [
    "**This is due to the use of clipping (the $\\max$ operator)**\n",
    "\n",
    "* In the feasible region, we always have the original loss\n",
    "* ...But by entering the infeasible region, we might get even better loss values\n",
    "\n",
    "(Almost) the only requirement for this property is that $L$ has a finite lower bound"
   ]
  },
  {
   "cell_type": "markdown",
   "metadata": {
    "slideshow": {
     "slide_type": "subslide"
    }
   },
   "source": [
    "## Choosing the Multipliers\n",
    "\n",
    "**Our prior observation suggests a simple rule for choosing $\\lambda$**\n",
    "\n",
    "Namely, we could just make all multipliers _very large_\n",
    "\n",
    "* The intution is that any $\\lambda \\geq 0$ will lead to a lower bound\n",
    "* ...And that increasing a $\\lambda_k$ component can only _increase the bound_\n",
    "\n",
    "Therefore, we should get the best bound by just raising $\\lambda$"
   ]
  },
  {
   "cell_type": "markdown",
   "metadata": {},
   "source": [
    "**In practice, there's a couple of issue with this approach**\n",
    "\n",
    "* First, in some cases, feasibility might require $\\lambda_k \\to \\infty, \\forall k$\n",
    "* Second, using large $\\lambda_k$ can lead to numerical instability\n",
    "\n",
    "While the second issue is easy to understand, the first deserves a better discussion"
   ]
  },
  {
   "cell_type": "markdown",
   "metadata": {
    "slideshow": {
     "slide_type": "subslide"
    }
   },
   "source": [
    "## Battle of the Gradients\n",
    "\n",
    "**Consider the following situation**\n",
    "\n",
    "<center><img src=\"assets/battle_of_gradients.png\" width=\"50%\"/></center>\n",
    "\n",
    "* There's a single prediction to make (i.e $\\hat{y}$ is scalar)\n",
    "* The loss function $L$ is quadratic (e.g. Mean Squared Error)\n",
    "* The constraint violation function $\\max(0, g)$ is quadratic in the infeasible region\n",
    "* By increasing $\\lambda$, we make the constraint more relevant in the Lagrangian loss"
   ]
  },
  {
   "cell_type": "markdown",
   "metadata": {
    "slideshow": {
     "slide_type": "subslide"
    }
   },
   "source": [
    "## Battle of the Gradients\n",
    "\n",
    "**Consider the following situation**\n",
    "\n",
    "<center><img src=\"assets/battle_of_gradients.png\" width=\"50%\"/></center>\n",
    "\n",
    "* However, $g$ has a _vanishing gradient_ when the constraint is tight\n",
    "* Hence, for a given $\\lambda$ increase, the closer we get to satisfaction\n",
    "* ...The smaller will be the reduction of constraint violation\n",
    "* Reaching feasibility will require $\\lambda \\rightarrow \\infty$"
   ]
  },
  {
   "cell_type": "markdown",
   "metadata": {
    "slideshow": {
     "slide_type": "subslide"
    }
   },
   "source": [
    "<div class=big>\n",
    "    We can prevent this situation by relying on two techniques\n",
    "</div>"
   ]
  },
  {
   "cell_type": "markdown",
   "metadata": {
    "slideshow": {
     "slide_type": "subslide"
    }
   },
   "source": [
    "## Technique 1: Avoid Vanishing Gradients\n",
    "\n",
    "**First, we should avoid penalizers with vanishing gradients**\n",
    "\n",
    "Consider the general form of a penalizer:\n",
    "\n",
    "$$\n",
    "h(\\max(0, g(\\hat{y}))\n",
    "$$\n",
    "\n",
    "Start by checking $\\nabla g$ when $g(\\hat{y}) = 0$:\n",
    "\n",
    "* If the gradient is non-null, _you are fine_ and $h$ is unneeded\n",
    "* If the gradient is null, you need to _get creative_\n",
    "* ...For example, you could consider adding a linear \"regularization\" term\n",
    "* In general, viable solutions will depend on the specific constraint"
   ]
  },
  {
   "cell_type": "markdown",
   "metadata": {
    "slideshow": {
     "slide_type": "fragment"
    }
   },
   "source": [
    "**Also, never used a square penalizer ($\\max(0, g(\\hat{y})^2$)!**\n",
    "\n",
    "* In truth, sometimes it makes sense (e.g. in [Augmented Lagrangian](https://en.wikipedia.org/wiki/Augmented_Lagrangian_method) formulations)\n",
    "* ...But you must have a good idea of what you are doing for that to work"
   ]
  },
  {
   "cell_type": "markdown",
   "metadata": {
    "slideshow": {
     "slide_type": "subslide"
    }
   },
   "source": [
    "## Technique 2: Dual Ascent\n",
    "\n",
    "**Since every $\\lambda \\geq 0$ provides a valid lower bound**\n",
    "\n",
    "...We build for a constrained training problem a _bi-level formulation_:\n",
    "\n",
    "$$\n",
    "\\mathop{\\rm argmax}_{\\lambda \\geq 0} \\mathop{\\rm argmin}_\\theta \\{L(\\hat{y}) + \\lambda^T h(\\max(0, g(\\hat{y}))) \\mid \\hat{y} = f(x; \\theta)\\}\n",
    "$$\n",
    "\n",
    "* The inner $\\rm argmin$ operator minimizes the Lagrangian loss\n",
    "* The outer $\\rm argmax$ operator seeks for the largest lower bound"
   ]
  },
  {
   "cell_type": "markdown",
   "metadata": {
    "slideshow": {
     "slide_type": "fragment"
    }
   },
   "source": [
    "**Solving the formulation requires joint optimization of $\\theta$ and $\\lambda$**\n",
    "\n",
    "* Otherwise, given a $\\theta$ with non-zero violation\n",
    "* The Lagrangian loss can be made to diverge by arbitrarily increasing $\\lambda$"
   ]
  },
  {
   "cell_type": "markdown",
   "metadata": {
    "slideshow": {
     "slide_type": "fragment"
    }
   },
   "source": [
    "**However, joint optimization of $\\theta$ and $\\lambda$ may not be so hard**"
   ]
  },
  {
   "cell_type": "markdown",
   "metadata": {
    "slideshow": {
     "slide_type": "subslide"
    }
   },
   "source": [
    "## Technique 2: Dual Ascent\n",
    "\n",
    "**A viable approach is given by the _dual ascent_ method**\n",
    "\n",
    "Dual ascent is a gradient based-algorithm that interleaves two steps\n",
    "\n",
    "* In the _primal_ step, we make a _gradient descent_ update to $\\theta$\n",
    "\n",
    "$$\n",
    "\\theta^{t+1} = \\theta^{(t)} - \\eta_{t,\\theta} \\nabla_\\theta \\mathcal{L}(f(x; \\theta), \\lambda)\n",
    "$$\n",
    "\n",
    "* In the _dual step_, we make a _gradient ascent_ update to $\\lambda$\n",
    "\n",
    "$$\n",
    "\\lambda^{t+1} = \\lambda^{(t)} + \\eta_{t, \\lambda} \\nabla_\\lambda \\mathcal{L}(f(x; \\theta), \\lambda)\n",
    "$$"
   ]
  },
  {
   "cell_type": "markdown",
   "metadata": {},
   "source": [
    "**It's useful to see what form the $\\nabla_\\lambda$ term gets:**\n",
    "\n",
    "$$\n",
    "\\nabla_\\lambda \\mathcal{L}(\\hat{y}, \\lambda) = \\max(0, h(g(\\hat{y})))\n",
    "$$\n",
    "\n",
    "* The gradient over $\\lambda$ is the vector of penalizer values\n",
    "* ...Which in most cases is just the vector of _constraint violations_"
   ]
  },
  {
   "cell_type": "markdown",
   "metadata": {
    "slideshow": {
     "slide_type": "subslide"
    }
   },
   "source": [
    "## Technique 2: Dual Ascent\n",
    "\n",
    "\n",
    "**Hence, here's an intuition of dual ascent in Lagrangian constrained ML**\n",
    "\n",
    "In the primal step:\n",
    "\n",
    "* We focus on minimizing accuracy\n",
    "* The penalizers attempt to prevent the model from becoming infeasible\n",
    "\n",
    "In the duald step:\n",
    "\n",
    "* In case a constraint is violated\n",
    "* ...We increase the corresponding Lagrangian multiplier\n",
    "\n",
    "The multipliers are _never decreased_\n",
    "\n",
    "* Therefore, if initialized from a feasible value (e.g. $\\lambda = 0$)\n",
    "* ...Then they will stay feasible (i.e. $\\lambda \\geq 0$) throughout the process\n",
    "\n",
    "**An early use of this approach in constrained ML comes from [this paper](https://link.springer.com/chapter/10.1007/978-3-030-67670-4_8)**"
   ]
  },
  {
   "cell_type": "markdown",
   "metadata": {
    "slideshow": {
     "slide_type": "subslide"
    }
   },
   "source": [
    "## Equality Constraints\n",
    "\n",
    "**Equality constraints (i.e. $g(\\hat{y}) = 0$) deserve special attention**\n",
    "\n",
    "In theory, they can be associated to a simplified term in the form:\n",
    "\n",
    "$$\n",
    "\\lambda^T |g(\\hat{y})| \\quad \\text{ with: } \\lambda \\geq 0\n",
    "$$\n",
    "\n",
    "* The terms is obtained by a reduction from a double-inequality formulation"
   ]
  },
  {
   "cell_type": "markdown",
   "metadata": {
    "slideshow": {
     "slide_type": "fragment"
    }
   },
   "source": [
    "**In practice, it is _not a good idea_**\n",
    "\n",
    "* Equality constraint satisfaction in a training setting is _very hard to achieve_\n",
    "* ...Meaning that the constraint will always be a bit violated\n",
    "* ...And dual ascent will constantly increase the multipliers\n",
    "\n",
    "In the worst case, this can lead to multiplier divergence"
   ]
  },
  {
   "cell_type": "markdown",
   "metadata": {
    "slideshow": {
     "slide_type": "fragment"
    }
   },
   "source": [
    "**There are (at least) two ways to deal with this issue**"
   ]
  },
  {
   "cell_type": "markdown",
   "metadata": {
    "slideshow": {
     "slide_type": "subslide"
    }
   },
   "source": [
    "## Equality Constraints\n",
    "\n",
    "**First, we can acknowledge that some violation is inevitable**\n",
    "\n",
    "...Which allows turning the original constraint into:\n",
    "\n",
    "$$\n",
    "|g(\\hat{y})| \\leq \\varepsilon\n",
    "$$\n",
    "\n",
    "From which we can derive a penalizer in the form:\n",
    "\n",
    "$$\n",
    "\\lambda^T \\max(0, |g(\\hat{y})| - \\varepsilon)\n",
    "$$"
   ]
  },
  {
   "cell_type": "markdown",
   "metadata": {},
   "source": [
    "**For a sufficiently large $\\varepsilon$ the penalizer will be well-behaved**\n",
    "\n",
    "* In theory, we still have the problem of finding a good value for $\\varepsilon$\n",
    "* In practice, we can usually find one based on the semantic of our constraint\n",
    "* ...And/or the errors made by an unconstrained model"
   ]
  },
  {
   "cell_type": "markdown",
   "metadata": {
    "slideshow": {
     "slide_type": "subslide"
    }
   },
   "source": [
    "## Equality Constraints\n",
    "\n",
    "**Alternatively, we can undo some of the adjustments made for inequalities**\n",
    "\n",
    "In particular, we can switch to a classic _signed_ Lagrangian term:\n",
    "\n",
    "$$\n",
    "\\lambda^T g(\\hat{y})\n",
    "$$\n",
    "\n",
    "* With an _unconstrained_ $\\lambda$"
   ]
  },
  {
   "cell_type": "markdown",
   "metadata": {
    "slideshow": {
     "slide_type": "-"
    }
   },
   "source": [
    "**The dual step will still try to maximize the Lagrangian loss**\n",
    "\n",
    "* If $g_k(\\hat{y}) > 0$, $\\lambda_k$ will be _increased_ as usual\n",
    "* ...But if $g_k(\\hat{y}) < 0$, then $\\lambda_k$ will be _decreased_ instead\n",
    "\n",
    "When close to satisfaction, positive and negative changes will balance out"
   ]
  },
  {
   "cell_type": "markdown",
   "metadata": {
    "slideshow": {
     "slide_type": "fragment"
    }
   },
   "source": [
    "**However, be careful of numeric stability!**\n",
    "\n",
    "If the dual step is too fast or too slow, convergence may suffer"
   ]
  },
  {
   "cell_type": "markdown",
   "metadata": {
    "slideshow": {
     "slide_type": "subslide"
    }
   },
   "source": [
    "<div class=big>\n",
    "    Now, let's see this approach in action\n",
    "</div>"
   ]
  },
  {
   "cell_type": "markdown",
   "metadata": {
    "slideshow": {
     "slide_type": "subslide"
    }
   },
   "source": [
    "## Fixed-Multiplier Approach\n",
    "\n",
    "**We'll start by building an approach with _fixed $\\lambda$_**\n",
    "\n",
    "...Which will serve as a baseline\n",
    "\n",
    "```python\n",
    "class CstDIDIRegressor(keras.Model):\n",
    "    def __init__(self, base_pred, attributes, protected, alpha, thr): ...\n",
    "\n",
    "    def train_step(self, data): ...\n",
    "\n",
    "    @property\n",
    "    def metrics(self): ...\n",
    "```\n",
    "\n",
    "The full code can be found in the support module\n",
    "\n",
    "* We subclass `keras.Model` and we provide a custom training step\n",
    "* `alpha` is the regularizer weight\n",
    "* `thr` is the DIDI threshold"
   ]
  },
  {
   "cell_type": "markdown",
   "metadata": {
    "slideshow": {
     "slide_type": "subslide"
    }
   },
   "source": [
    "## Fixed-Multiplier Approach\n",
    "\n",
    "**The main logic is in the first half of the `train_step` method:**\n",
    "\n",
    "```python\n",
    "def train_step(self, data):\n",
    "    x, y_true = data # unpacking the mini-batch\n",
    "    with tf.GradientTape() as tape:\n",
    "        y_pred = self.based_pred(x, training=True) # obtain predictions\n",
    "        mse = self.compiled_loss(y_true, y_pred) # base loss (kept external)\n",
    "        ymean = k.mean(y_pred) # avg prediction\n",
    "        didi = 0 # DIDI computation\n",
    "        for aidx, dom in self.protected.items():\n",
    "            for val in dom:\n",
    "                mask = (x[:, aidx] == val)\n",
    "                didi += k.abs(ymean - k.mean(y_pred[mask]))\n",
    "        cst = k.maximum(0.0, didi - self.thr) # Regularizer\n",
    "        loss = mse + self.alpha * cst\n",
    "```\n",
    "\n",
    "* The main loss is defined when calling `compile`"
   ]
  },
  {
   "cell_type": "markdown",
   "metadata": {
    "slideshow": {
     "slide_type": "subslide"
    }
   },
   "source": [
    "## Training the Fixed-Multiplier Approach\n",
    "\n",
    "**Let's try and train the model, trying to _roughly halve_ the DIDI**\n",
    "\n",
    "* Important: it will be a good idea to need to keep all examples in every batch\n",
    "* Mini-batches can be used, but make constraint satisfaction (more) stochastic"
   ]
  },
  {
   "cell_type": "code",
   "execution_count": 8,
   "metadata": {},
   "outputs": [
    {
     "data": {
      "image/png": "[encoded data removed]",
      "text/plain": [
       "<Figure size 1400x500 with 1 Axes>"
      ]
     },
     "metadata": {},
     "output_type": "display_data"
    },
    {
     "name": "stdout",
     "output_type": "stream",
     "text": [
      "Model loss: 0.0106 (training)\n"
     ]
    }
   ],
   "source": [
    "didi_thr = 0.13\n",
    "base_pred = util.build_ml_model(input_size=len(attributes), output_size=1, hidden=[])\n",
    "nn2 = util.CstDIDIModel(base_pred, attributes, protected, alpha=5, thr=didi_thr)\n",
    "history = util.train_ml_model(nn2, tr[attributes], tr[target], validation_split=0., epochs=2000, batch_size=len(tr))\n",
    "util.plot_training_history(history, figsize=figsize)"
   ]
  },
  {
   "cell_type": "markdown",
   "metadata": {
    "slideshow": {
     "slide_type": "subslide"
    }
   },
   "source": [
    "## Fixed-Multiplier Approach Evaluation\n",
    "\n",
    "**Let's check both the prediction quality and the DIDI**"
   ]
  },
  {
   "cell_type": "code",
   "execution_count": 10,
   "metadata": {},
   "outputs": [
    {
     "name": "stdout",
     "output_type": "stream",
     "text": [
      "R2 score: 0.30 (training), 0.20 (test)\n",
      "DIDI: 0.08 (training), 0.04 (test)\n"
     ]
    }
   ],
   "source": [
    "tr_pred2 = nn2.predict(tr[attributes], verbose=0)\n",
    "r2_tr2 = r2_score(tr[target], tr_pred2)\n",
    "ts_pred2 = nn2.predict(ts[attributes], verbose=0)\n",
    "r2_ts2 = r2_score(ts[target], ts_pred2)\n",
    "tr_DIDI2 = util.DIDI_r(tr, tr_pred2, protected)\n",
    "ts_DIDI2 = util.DIDI_r(ts, ts_pred2, protected)\n",
    "\n",
    "print(f'R2 score: {r2_tr2:.2f} (training), {r2_ts2:.2f} (test)')\n",
    "print(f'DIDI: {tr_DIDI2:.2f} (training), {ts_DIDI2:.2f} (test)')"
   ]
  },
  {
   "cell_type": "markdown",
   "metadata": {},
   "source": [
    "The constraint is satisfied _with some slack_, leading to reduced performance\n",
    "\n",
    "* A large $\\lambda$ (what we have here) slows down training \n",
    "* ...But a small $\\lambda$ may lead to significant constraint violation"
   ]
  },
  {
   "cell_type": "markdown",
   "metadata": {
    "slideshow": {
     "slide_type": "subslide"
    }
   },
   "source": [
    "## Dual Ascent Approach\n",
    "\n",
    "**Now, let's switch to the dual ascent approach**\n",
    "\n",
    "```python\n",
    "class LagDualDIDIRegressor(MLPRegressor):\n",
    "    def __init__(self, base_pred, attributes, protected, thr):\n",
    "        super(LagDualDIDIRegressor, self).__init__()\n",
    "        self.alpha = tf.Variable(0., name='alpha')\n",
    "        self.dual_optimizer = keras.optimizers.Adam()\n",
    "        ...\n",
    "\n",
    "    def __custom_loss(self, x, y_true, sign=1): ...\n",
    "\n",
    "    def train_step(self, data): ...\n",
    "        \n",
    "    def metrics(self): ...\n",
    "```\n",
    "\n",
    "* We no longer pass a fixed `alpha` weight/multiplier\n",
    "* Instead we use a _trainable variable_\n",
    "* ...Which we'll manage through a separate optimizer"
   ]
  },
  {
   "cell_type": "markdown",
   "metadata": {
    "slideshow": {
     "slide_type": "subslide"
    }
   },
   "source": [
    "## Dual Ascent Approach\n",
    "\n",
    "**In the `__custom_loss` method we compute the Lagrangian/regularized loss**\n",
    "\n",
    "```python\n",
    "def __custom_loss(self, x, y_true, sign=1):\n",
    "    y_pred = self.base_pred(x, training=True) # obtain the predictions\n",
    "    mse = self.compute_loss(x, y_true, y_pred) # main loss\n",
    "    ymean = tf.math.reduce_mean(y_pred) # average prediction\n",
    "    didi = 0 # DIDI computation\n",
    "    for aidx, dom in self.protected.items():\n",
    "        for val in dom:\n",
    "            mask = (x[:, aidx] == val)\n",
    "            didi += tf.math.abs(ymean - tf.math.reduce_mean(y_pred[mask]))\n",
    "    cst = tf.math.maximum(0.0, didi - self.thr) # regularizer\n",
    "    loss = mse + self.alpha * cst\n",
    "    return sign*loss, mse, cst\n",
    "```\n",
    "\n",
    "* The code is the same as before\n",
    "* ...Except that we can flip the loss sign via a function argument (i.e. `sign`)"
   ]
  },
  {
   "cell_type": "markdown",
   "metadata": {
    "slideshow": {
     "slide_type": "subslide"
    }
   },
   "source": [
    "## Dual Ascent Approach\n",
    "\n",
    "**In the training method, we make _two distinct gradient steps:_**\n",
    "\n",
    "```python\n",
    "    def train_step(self, data):\n",
    "        x, y_true = data # unpacking\n",
    "        with tf.GradientTape() as tape: # first loss (minimization)\n",
    "            loss, mse, cst = self.__custom_loss(x, y_true, sign=1)\n",
    "        grads = tape.gradient(loss, wgt_vars) # adjust the network weights\n",
    "        self.optimizer.apply_gradients(zip(grads, wgt_vars))\n",
    "        with tf.GradientTape() as tape: # second loss (maximization)\n",
    "            loss, mse, cst = self.__custom_loss(x, y_true, sign=-1)\n",
    "        grads = tape.gradient(loss, mul_vars) # adjust lambda\n",
    "        self.dual_optimizer.apply_gradients(zip([grads], [self.alpha]))\n",
    "```\n",
    "\n",
    "* In principle, we could even have used two distinct optimizers\n",
    "* That would allow to keep (e.g.) separate momentum vectors"
   ]
  },
  {
   "cell_type": "markdown",
   "metadata": {
    "slideshow": {
     "slide_type": "subslide"
    }
   },
   "source": [
    "## Training the Dual Ascent Approach\n",
    "\n",
    "**The new approach leads fewer oscillations at training time**"
   ]
  },
  {
   "cell_type": "code",
   "execution_count": 34,
   "metadata": {},
   "outputs": [
    {
     "data": {
      "image/png": "[encoded data removed]",
      "text/plain": [
       "<Figure size 1400x500 with 1 Axes>"
      ]
     },
     "metadata": {},
     "output_type": "display_data"
    },
    {
     "name": "stdout",
     "output_type": "stream",
     "text": [
      "Model loss: 0.0061 (training)\n"
     ]
    }
   ],
   "source": [
    "base_pred = util.build_ml_model(input_size=len(attributes), output_size=1, hidden=[])\n",
    "nn3 = util.LagDualDIDIModel(base_pred, attributes, protected, thr=didi_thr)\n",
    "history = util.train_ml_model(nn3, tr[attributes], tr[target], validation_split=0.,epochs=2000, batch_size=len(tr))\n",
    "util.plot_training_history(history, figsize=figsize)"
   ]
  },
  {
   "cell_type": "markdown",
   "metadata": {
    "slideshow": {
     "slide_type": "subslide"
    }
   },
   "source": [
    "## Lagrangian Dual Evaluation\n",
    "\n",
    "**Let's check the new results**"
   ]
  },
  {
   "cell_type": "code",
   "execution_count": 36,
   "metadata": {},
   "outputs": [
    {
     "name": "stdout",
     "output_type": "stream",
     "text": [
      "R2 score: 0.60 (training), 0.54 (test)\n",
      "DIDI: 0.13 (training), 0.13 (test)\n"
     ]
    }
   ],
   "source": [
    "tr_pred3 = nn3.predict(tr[attributes], verbose=0)\n",
    "r2_tr3 = r2_score(tr[target], tr_pred3)\n",
    "ts_pred3 = nn3.predict(ts[attributes], verbose=0)\n",
    "r2_ts3 = r2_score(ts[target], ts_pred3)\n",
    "tr_DIDI3 = util.DIDI_r(tr, tr_pred3, protected)\n",
    "ts_DIDI3 = util.DIDI_r(ts, ts_pred3, protected)\n",
    "\n",
    "print(f'R2 score: {r2_tr3:.2f} (training), {r2_ts3:.2f} (test)')\n",
    "print(f'DIDI: {tr_DIDI3:.2f} (training), {ts_DIDI3:.2f} (test)')"
   ]
  },
  {
   "cell_type": "markdown",
   "metadata": {},
   "source": [
    "* The DIDI has the desired value (on the test set, this is only roughly true)\n",
    "* ...And the prediction quality is _much higher than before_!"
   ]
  }
 ],
 "metadata": {
  "celltoolbar": "Slideshow",
  "kernelspec": {
   "display_name": "Python 3 (ipykernel)",
   "language": "python",
   "name": "python3"
  },
  "language_info": {
   "codemirror_mode": {
    "name": "ipython",
    "version": 3
   },
   "file_extension": ".py",
   "mimetype": "text/x-python",
   "name": "python",
   "nbconvert_exporter": "python",
   "pygments_lexer": "ipython3",
   "version": "3.11.8"
  },
  "rise": {
   "center": false,
   "transition": "fade"
  }
 },
 "nbformat": 4,
 "nbformat_minor": 4
}
