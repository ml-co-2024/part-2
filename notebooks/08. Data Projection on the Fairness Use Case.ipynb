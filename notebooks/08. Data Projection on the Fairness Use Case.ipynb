{
 "cells": [
  {
   "cell_type": "code",
   "execution_count": 1,
   "metadata": {
    "slideshow": {
     "slide_type": "skip"
    }
   },
   "outputs": [],
   "source": [
    "# ============================================================\n",
    "# Notebook setup\n",
    "# ============================================================\n",
    "\n",
    "%load_ext autoreload\n",
    "%autoreload 2\n",
    "\n",
    "# Control figure size\n",
    "figsize=(14, 5)\n",
    "\n",
    "from util import util\n",
    "import os\n",
    "import numpy as np\n",
    "#from sklearn.preprocessing import MinMaxScaler, StandardScaler\n",
    "#import pandas as pd\n",
    "from sklearn.metrics import r2_score\n",
    "\n",
    "# Load data\n",
    "data_folder = os.path.join('..', 'data')\n",
    "\n",
    "data = util.load_communities_data(data_folder)\n",
    "attributes = data.columns[3:-1]\n",
    "target = data.columns[-1]\n",
    "\n",
    "tr_frac = 0.8 # 80% data for training\n",
    "tr_sep = int(len(data) * tr_frac)\n",
    "nf = [a for a in attributes if a != 'race'] + [target]\n",
    "\n",
    "tmp = data.iloc[:tr_sep]\n",
    "scale = tmp[nf].max()\n",
    "sdata = data.copy()\n",
    "sdata[nf] /= scale[nf]\n",
    "\n",
    "sdata[attributes] = sdata[attributes].astype(np.float32)\n",
    "sdata[target] = sdata[target].astype(np.float32)\n",
    "\n",
    "tr = sdata.iloc[:tr_sep]\n",
    "ts = sdata.iloc[tr_sep:]\n",
    "\n",
    "protected = {'race': (0, 1)}"
   ]
  },
  {
   "cell_type": "markdown",
   "metadata": {
    "slideshow": {
     "slide_type": "slide"
    }
   },
   "source": [
    "# Data Projection on the Fairness Use Case\n",
    "\n",
    "Fingers Crossed"
   ]
  },
  {
   "cell_type": "markdown",
   "metadata": {
    "slideshow": {
     "slide_type": "subslide"
    }
   },
   "source": [
    "## Projection Problem Formulation\n",
    "\n",
    "**The projection problem for the fairness case study is given by:**\n",
    "\n",
    "$$\\begin{align}\n",
    "\\mathop{\\rm argmin}_{\\hat{y}} & \\|y - z\\|_2 \\\\\n",
    "\\text{subject to: } & \\bar{y} = \\frac{1}{m} {1}^T z \\\\\n",
    "& \\bar{y}_v = \\frac{1}{\\|X_{v}\\|_1} X_{v} z & \\forall v \\in D \\\\\n",
    "& d_v \\geq \\bar{y} - \\bar{y}_v & \\forall v \\in D \\\\\n",
    "& d_v \\geq -(\\bar{y} - \\bar{y}_v) & \\forall v \\in D \\\\\n",
    "& {1}^T d_v \\leq \\varepsilon\n",
    "\\end{align}$$\n",
    "\n",
    "* We want to tackle that via the OSQP solver\n",
    "* ...Which means we need to define its parameters $P$, $q$, $A$, $l$, $u$"
   ]
  },
  {
   "cell_type": "markdown",
   "metadata": {
    "slideshow": {
     "slide_type": "subslide"
    }
   },
   "source": [
    "## Deriving the Matrices\n",
    "\n",
    "**We start by factoring out the $\\bar{y}$ and $\\bar{y}_v$ variables**\n",
    "\n",
    "$$\\begin{align}\n",
    "\\mathop{\\rm argmin}_{z} & \\frac{1}{2} z^T I z - y^T z \\\\\n",
    "\\text{subject to: } \n",
    "& \\left( \\frac{1}{m} - \\frac{1}{\\| X_{v} \\|_1} X_{v} \\right)^T z - d_v \\leq 0 & \\forall v \\in D \\\\\n",
    "& - \\left( \\frac{1}{m} - \\frac{1}{\\| X_{v} \\|_1} X_{v} \\right)^T z - d_v \\leq 0 & \\forall v \\in D \\\\\n",
    "& {1}^T d \\leq \\varepsilon\n",
    "\\end{align}$$\n",
    "\n",
    "* We no longer have equality constraints\n",
    "* Which means our problem is in the correct form\n",
    "\n",
    "**Now, we only need to work out its matrix notation**"
   ]
  },
  {
   "cell_type": "markdown",
   "metadata": {
    "slideshow": {
     "slide_type": "subslide"
    }
   },
   "source": [
    "## Deriving the Matrices\n",
    "\n",
    "**Our problem features two types of variables**\n",
    "\n",
    "* The projected targets $z$\n",
    "* The individual deviation terms $d$"
   ]
  },
  {
   "cell_type": "markdown",
   "metadata": {},
   "source": [
    "**Hence, in matrix form the problem is defined as:**\n",
    "\n",
    "$$\\begin{align}\n",
    "\\mathop{\\rm argmin}_{z} & \\frac{1}{2} \\left(\\begin{array}{c}z & d\\end{array}\\right)^T P \\left(\\begin{array}{c}z & d\\end{array}\\right) - q^T \\left(\\begin{array}{c}z & d\\end{array}\\right) \\\\\n",
    "\\text{subject to: } \n",
    "& A \\left(\\begin{array}{c}z & d\\end{array}\\right) \\leq u\n",
    "\\end{align}$$\n",
    "\n",
    "* By comparison with the detailed formulation\n",
    "* ...We can derive the matrix structure"
   ]
  },
  {
   "cell_type": "markdown",
   "metadata": {
    "slideshow": {
     "slide_type": "subslide"
    }
   },
   "source": [
    "## Deriving the Matrices\n",
    "\n",
    "**For the objective we have:**\n",
    "\n",
    "$$\n",
    "\\left(\\begin{array}{c}z & d\\end{array}\\right)^T P \\left(\\begin{array}{c}z & d\\end{array}\\right) - q^T \\left(\\begin{array}{c}z & d\\end{array}\\right)\n",
    "$$\n",
    "\n",
    "Which maps in the detailed formulation to:\n",
    "\n",
    "$$\n",
    "\\frac{1}{2} z^T I z - y^T z\n",
    "$$\n",
    "\n",
    "**Hence, we have:**\n",
    "\n",
    "$$P = \\left(\\begin{array}{cc}\n",
    "I & 0 \\\\\n",
    "0 & 0\n",
    "\\end{array}\\right)\n",
    "\\quad\n",
    "\\text{and}\n",
    "\\quad\n",
    "q = \\left(\\begin{array}{c}\n",
    "y \\\\\n",
    "0\n",
    "\\end{array}\\right)$$"
   ]
  },
  {
   "cell_type": "markdown",
   "metadata": {
    "slideshow": {
     "slide_type": "subslide"
    }
   },
   "source": [
    "## Deriving the Matrices\n",
    "\n",
    "**Following the same process for the constraints leads to:**\n",
    "\n",
    "$$A = \\left(\\begin{array}{cc}\n",
    "\\frac{1}{m} - \\frac{1}{\\| X \\|_1} \\odot X &  - I \\\\\n",
    "-\\frac{1}{m} + \\frac{1}{\\| X \\|_1} \\odot X & -I \\\\\n",
    "0 & 1\n",
    "\\end{array}\\right)\n",
    "\\quad\n",
    "\\text{and}\n",
    "\\quad\n",
    "u = \\left(\\begin{array}{c}\n",
    "0 \\\\\n",
    "0 \\\\\n",
    "\\varepsilon\n",
    "\\end{array}\\right)$$\n",
    "\n",
    "* Where $\\|X\\|_1$ refers to the column vector $\\{\\|X_v\\|_1\\}_{v \\in D}$\n",
    "* ...And $\\odot$ to the (broadcasted) element wise product"
   ]
  },
  {
   "cell_type": "markdown",
   "metadata": {
    "slideshow": {
     "slide_type": "fragment"
    }
   },
   "source": [
    "**Deriving these matrices is a convoluted process**\n",
    "\n",
    "* Having a modeling library would greatly simplify it\n",
    "* ...But sadly no good candidates appear to be available for OSQP"
   ]
  },
  {
   "cell_type": "markdown",
   "metadata": {
    "slideshow": {
     "slide_type": "subslide"
    }
   },
   "source": [
    "## Solving the Projection Problem\n",
    "\n",
    "**We can now solve the projection problem**"
   ]
  },
  {
   "cell_type": "code",
   "execution_count": 2,
   "metadata": {},
   "outputs": [
    {
     "name": "stdout",
     "output_type": "stream",
     "text": [
      "-----------------------------------------------------------------\n",
      "           OSQP v0.6.3  -  Operator Splitting QP Solver\n",
      "              (c) Bartolomeo Stellato,  Goran Banjac\n",
      "        University of Oxford  -  Stanford University 2021\n",
      "-----------------------------------------------------------------\n",
      "problem:  variables n = 1596, constraints m = 5\n",
      "          nnz(P) + nnz(A) = 7976\n",
      "settings: linear system solver = qdldl,\n",
      "          eps_abs = 1.0e-03, eps_rel = 1.0e-03,\n",
      "          eps_prim_inf = 1.0e-04, eps_dual_inf = 1.0e-04,\n",
      "          rho = 1.00e-01 (adaptive),\n",
      "          sigma = 1.00e-06, alpha = 1.60, max_iter = 4000\n",
      "          check_termination: on (interval 25),\n",
      "          scaling: on, scaled_termination: off\n",
      "          warm start: on, polish: off, time_limit: off\n",
      "\n",
      "iter   objective    pri res    dua res    rho        time\n",
      "   1  -1.4944e+01   4.05e-01   5.99e-01   1.00e-01   8.58e-04s\n",
      " 125  -2.2899e+01   1.34e-06   4.41e-05   2.99e+01   2.97e-03s\n",
      "\n",
      "status:               solved\n",
      "number of iterations: 125\n",
      "optimal objective:    -22.8992\n",
      "run time:             2.99e-03s\n",
      "optimal rho estimate: 1.04e+01\n",
      "\n"
     ]
    }
   ],
   "source": [
    "tr_prj = util.project_fairness(tr['race'], tr[target], thr=0.13)"
   ]
  },
  {
   "cell_type": "markdown",
   "metadata": {
    "slideshow": {
     "slide_type": "subslide"
    }
   },
   "source": [
    "## Checking the Results\n",
    "\n",
    "**We should evaluate two qualities in our projected targets**\n",
    "\n",
    "* Their accuracy w.r.t. the original targets\n",
    "* Their DIDI value (to make sure that everything went right)"
   ]
  },
  {
   "cell_type": "code",
   "execution_count": 3,
   "metadata": {},
   "outputs": [
    {
     "name": "stdout",
     "output_type": "stream",
     "text": [
      "Projection R2: 0.96 (train)\n",
      "Projection DIDI: 0.13 (train)\n"
     ]
    }
   ],
   "source": [
    "print(f'Projection R2: {r2_score(tr[target], tr_prj):.2f} (train)')\n",
    "print(f'Projection DIDI: {util.DIDI_r(tr, tr_prj, protected):.2f} (train)')"
   ]
  },
  {
   "cell_type": "markdown",
   "metadata": {},
   "source": [
    "* We using the $R^2$ coefficient to measure accuracy\n",
    "* The DIDI value is equal to the threshold\n",
    "* ...Which makes sense considering that lower value come with reduced accuracy"
   ]
  },
  {
   "cell_type": "markdown",
   "metadata": {
    "slideshow": {
     "slide_type": "subslide"
    }
   },
   "source": [
    "## Training a Model\n",
    "\n",
    "**We can now train a (simple) model on the projected targets**"
   ]
  },
  {
   "cell_type": "code",
   "execution_count": 4,
   "metadata": {},
   "outputs": [
    {
     "data": {
      "image/png": "[encoded data removed]",
      "text/plain": [
       "<Figure size 1400x500 with 1 Axes>"
      ]
     },
     "metadata": {},
     "output_type": "display_data"
    },
    {
     "name": "stdout",
     "output_type": "stream",
     "text": [
      "Model loss: 0.0054 (training)\n"
     ]
    }
   ],
   "source": [
    "nn_f = util.build_ml_model(input_size=len(attributes), output_size=1, hidden=[])\n",
    "history = util.train_ml_model(nn_f, tr[attributes], tr_prj, validation_split=0., epochs=200)\n",
    "util.plot_training_history(history, figsize=figsize)"
   ]
  },
  {
   "cell_type": "markdown",
   "metadata": {
    "slideshow": {
     "slide_type": "subslide"
    }
   },
   "source": [
    "## Evaluating the Results\n",
    "\n",
    "**Finally, we can evaluate the results**"
   ]
  },
  {
   "cell_type": "code",
   "execution_count": 8,
   "metadata": {},
   "outputs": [
    {
     "name": "stdout",
     "output_type": "stream",
     "text": [
      "R2 score: 0.63 (training), 0.57 (test)\n",
      "DIDI: 0.13 (training), 0.14 (test)\n"
     ]
    }
   ],
   "source": [
    "tr_pred_f = nn_f.predict(tr[attributes], verbose=0)\n",
    "r2_tr_f = r2_score(tr[target], tr_pred_f)\n",
    "ts_pred_f = nn_f.predict(ts[attributes], verbose=0)\n",
    "r2_ts_f = r2_score(ts[target], ts_pred_f)\n",
    "\n",
    "print(f'R2 score: {r2_tr_f:.2f} (training), {r2_ts_f:.2f} (test)')\n",
    "tr_DIDI_f = util.DIDI_r(tr, tr_pred_f, protected)\n",
    "ts_DIDI_f = util.DIDI_r(ts, ts_pred_f, protected)\n",
    "print(f'DIDI: {tr_DIDI_f:.2f} (training), {ts_DIDI_f:.2f} (test)')"
   ]
  },
  {
   "cell_type": "markdown",
   "metadata": {},
   "source": [
    "The results should be pretty good!\n",
    "\n",
    "* There a bit overfitting\n",
    "* ...Which can lead to a modest constraint violation on the test data"
   ]
  }
 ],
 "metadata": {
  "celltoolbar": "Slideshow",
  "kernelspec": {
   "display_name": "Python 3 (ipykernel)",
   "language": "python",
   "name": "python3"
  },
  "language_info": {
   "codemirror_mode": {
    "name": "ipython",
    "version": 3
   },
   "file_extension": ".py",
   "mimetype": "text/x-python",
   "name": "python",
   "nbconvert_exporter": "python",
   "pygments_lexer": "ipython3",
   "version": "3.11.8"
  },
  "rise": {
   "center": false,
   "transition": "fade"
  }
 },
 "nbformat": 4,
 "nbformat_minor": 4
}
